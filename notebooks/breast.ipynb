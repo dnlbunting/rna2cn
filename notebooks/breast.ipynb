{
 "cells": [
  {
   "cell_type": "markdown",
   "metadata": {},
   "source": [
    "# Comparing Kallisto quantification to STAR+RSEM\n",
    "\n",
    "Paper: https://www.nature.com/articles/ncomms15081\n",
    "    1. Fetch the data from the SRA for scRNASeq/bulkRNASeq/WES\n",
    "    2. Run Trimmomatic on all libraries \n",
    "    3. Run Kallisto on the RNA libraries"
   ]
  },
  {
   "cell_type": "markdown",
   "metadata": {},
   "source": [
    "Fetch sample table from https://www.ncbi.nlm.nih.gov/Traces/study/?pl=%7B%22page%22%3A1%2C%20%22page_size%22%3A50%2C%20%22sort%22%3A%7B%7D%2C%20%22facet%22%3A%7B%22limit%22%3A100%2C%20%22fields%22%3A%7B%7D%7D%2C%20%22selection%22%3A%5B%5D%2C%20%22sum%22%3A%7B%22count%22%3A%7B%22n%22%3A0%2C%20%22v%22%3A0%7D%7D%7D&acc=PRJNA305054\n",
    "\n",
    "and dumped to /srv/data/tempusers/dbunting/SRP066982SraRunTable.txt"
   ]
  },
  {
   "cell_type": "code",
   "execution_count": 1,
   "metadata": {},
   "outputs": [],
   "source": [
    "import luigi\n",
    "import rna2cn.luigi\n",
    "from luigi import LocalTarget\n",
    "from bioluigi.decorators import inherits, requires\n",
    "from bioluigi.slurm import SlurmExecutableTask\n",
    "import os, re\n",
    "import logging\n",
    "import pandas as pd\n",
    "import numpy as np\n",
    "import matplotlib.pyplot as plt\n",
    "import seaborn as sns\n",
    "import sklearn.decomposition\n",
    "import pyensembl\n",
    "\n",
    "%matplotlib inline\n",
    "sns.set_style('whitegrid')\n",
    "\n",
    "logger = logging.getLogger('luigi-interface')\n",
    "logger.setLevel(logging.INFO)"
   ]
  },
  {
   "cell_type": "markdown",
   "metadata": {},
   "source": [
    "# RNA Samples \n",
    "\n",
    "Why is the cell number stored in a differnt table to the rest of the metadata 😤"
   ]
  },
  {
   "cell_type": "code",
   "execution_count": 2,
   "metadata": {},
   "outputs": [
    {
     "data": {
      "text/html": [
       "<div>\n",
       "<style>\n",
       "    .dataframe thead tr:only-child th {\n",
       "        text-align: right;\n",
       "    }\n",
       "\n",
       "    .dataframe thead th {\n",
       "        text-align: left;\n",
       "    }\n",
       "\n",
       "    .dataframe tbody tr th {\n",
       "        vertical-align: top;\n",
       "    }\n",
       "</style>\n",
       "<table border=\"1\" class=\"dataframe\">\n",
       "  <thead>\n",
       "    <tr style=\"text-align: right;\">\n",
       "      <th></th>\n",
       "      <th>Experiment_s</th>\n",
       "      <th>Sample_Name_s</th>\n",
       "      <th>cell_type_s</th>\n",
       "      <th>molecular_subtype_s</th>\n",
       "      <th>patient_id_s</th>\n",
       "      <th>source_name_s</th>\n",
       "      <th>Assay_Type_s</th>\n",
       "      <th>LibrarySource_s</th>\n",
       "      <th>isBulk</th>\n",
       "      <th>Name</th>\n",
       "    </tr>\n",
       "    <tr>\n",
       "      <th>Run_s</th>\n",
       "      <th></th>\n",
       "      <th></th>\n",
       "      <th></th>\n",
       "      <th></th>\n",
       "      <th></th>\n",
       "      <th></th>\n",
       "      <th></th>\n",
       "      <th></th>\n",
       "      <th></th>\n",
       "      <th></th>\n",
       "    </tr>\n",
       "  </thead>\n",
       "  <tbody>\n",
       "    <tr>\n",
       "      <th>SRR2973535</th>\n",
       "      <td>SRX1462879</td>\n",
       "      <td>GSM1964005</td>\n",
       "      <td>metastatic breast cancer</td>\n",
       "      <td>triple-negative breast cancer (TNBC)</td>\n",
       "      <td>BC07LN</td>\n",
       "      <td>BC07LN_Single-cell RNA-seq</td>\n",
       "      <td>RNA-Seq</td>\n",
       "      <td>TRANSCRIPTOMIC</td>\n",
       "      <td>False</td>\n",
       "      <td>BC04LN_96</td>\n",
       "    </tr>\n",
       "    <tr>\n",
       "      <th>SRR2973470</th>\n",
       "      <td>SRX1462814</td>\n",
       "      <td>GSM1963940</td>\n",
       "      <td>primary breast cancer</td>\n",
       "      <td>triple-negative breast cancer (TNBC)</td>\n",
       "      <td>BC07</td>\n",
       "      <td>BC07_Single-cell RNA-seq</td>\n",
       "      <td>RNA-Seq</td>\n",
       "      <td>TRANSCRIPTOMIC</td>\n",
       "      <td>False</td>\n",
       "      <td>BC04_67</td>\n",
       "    </tr>\n",
       "    <tr>\n",
       "      <th>SRR2973534</th>\n",
       "      <td>SRX1462878</td>\n",
       "      <td>GSM1964004</td>\n",
       "      <td>metastatic breast cancer</td>\n",
       "      <td>triple-negative breast cancer (TNBC)</td>\n",
       "      <td>BC07LN</td>\n",
       "      <td>BC07LN_Single-cell RNA-seq</td>\n",
       "      <td>RNA-Seq</td>\n",
       "      <td>TRANSCRIPTOMIC</td>\n",
       "      <td>False</td>\n",
       "      <td>BC04LN_95</td>\n",
       "    </tr>\n",
       "    <tr>\n",
       "      <th>SRR2973533</th>\n",
       "      <td>SRX1462877</td>\n",
       "      <td>GSM1964003</td>\n",
       "      <td>metastatic breast cancer</td>\n",
       "      <td>triple-negative breast cancer (TNBC)</td>\n",
       "      <td>BC07LN</td>\n",
       "      <td>BC07LN_Single-cell RNA-seq</td>\n",
       "      <td>RNA-Seq</td>\n",
       "      <td>TRANSCRIPTOMIC</td>\n",
       "      <td>False</td>\n",
       "      <td>BC04LN_94</td>\n",
       "    </tr>\n",
       "    <tr>\n",
       "      <th>SRR2973532</th>\n",
       "      <td>SRX1462876</td>\n",
       "      <td>GSM1964002</td>\n",
       "      <td>metastatic breast cancer</td>\n",
       "      <td>triple-negative breast cancer (TNBC)</td>\n",
       "      <td>BC07LN</td>\n",
       "      <td>BC07LN_Single-cell RNA-seq</td>\n",
       "      <td>RNA-Seq</td>\n",
       "      <td>TRANSCRIPTOMIC</td>\n",
       "      <td>False</td>\n",
       "      <td>BC04LN_91</td>\n",
       "    </tr>\n",
       "  </tbody>\n",
       "</table>\n",
       "</div>"
      ],
      "text/plain": [
       "           Experiment_s Sample_Name_s               cell_type_s  \\\n",
       "Run_s                                                             \n",
       "SRR2973535   SRX1462879    GSM1964005  metastatic breast cancer   \n",
       "SRR2973470   SRX1462814    GSM1963940     primary breast cancer   \n",
       "SRR2973534   SRX1462878    GSM1964004  metastatic breast cancer   \n",
       "SRR2973533   SRX1462877    GSM1964003  metastatic breast cancer   \n",
       "SRR2973532   SRX1462876    GSM1964002  metastatic breast cancer   \n",
       "\n",
       "                             molecular_subtype_s patient_id_s  \\\n",
       "Run_s                                                           \n",
       "SRR2973535  triple-negative breast cancer (TNBC)       BC07LN   \n",
       "SRR2973470  triple-negative breast cancer (TNBC)         BC07   \n",
       "SRR2973534  triple-negative breast cancer (TNBC)       BC07LN   \n",
       "SRR2973533  triple-negative breast cancer (TNBC)       BC07LN   \n",
       "SRR2973532  triple-negative breast cancer (TNBC)       BC07LN   \n",
       "\n",
       "                         source_name_s Assay_Type_s LibrarySource_s  isBulk  \\\n",
       "Run_s                                                                         \n",
       "SRR2973535  BC07LN_Single-cell RNA-seq      RNA-Seq  TRANSCRIPTOMIC   False   \n",
       "SRR2973470    BC07_Single-cell RNA-seq      RNA-Seq  TRANSCRIPTOMIC   False   \n",
       "SRR2973534  BC07LN_Single-cell RNA-seq      RNA-Seq  TRANSCRIPTOMIC   False   \n",
       "SRR2973533  BC07LN_Single-cell RNA-seq      RNA-Seq  TRANSCRIPTOMIC   False   \n",
       "SRR2973532  BC07LN_Single-cell RNA-seq      RNA-Seq  TRANSCRIPTOMIC   False   \n",
       "\n",
       "                 Name  \n",
       "Run_s                  \n",
       "SRR2973535  BC04LN_96  \n",
       "SRR2973470    BC04_67  \n",
       "SRR2973534  BC04LN_95  \n",
       "SRR2973533  BC04LN_94  \n",
       "SRR2973532  BC04LN_91  "
      ]
     },
     "execution_count": 2,
     "metadata": {},
     "output_type": "execute_result"
    }
   ],
   "source": [
    "sample_table = pd.read_table(\"/srv/shared/vanloo/rna2cn/SRP066982/sample_data.tsv\")\n",
    "\n",
    "sample_table.drop(['ReleaseDate_s', 'Platform_s', 'LibraryLayout_s', 'Consent_s', 'MBytes_l', \n",
    "                   'BioSample_s','AvgSpotLen_l', 'BioProject_s', 'Center_Name_s',\n",
    "                  'Organism_s', 'InsertSize_l','SRA_Study_s',\n",
    "                  'MBases_l', 'SRA_Sample_s','Instrument_s', 'LoadDate_s', 'LibrarySelection_s'], axis=1, inplace=True)\n",
    "\n",
    "sample_table['isBulk'] = ~sample_table['source_name_s'].str.contains('Single-cell')\n",
    "rna_samples = sample_table['Run_s']\n",
    "\n",
    "run_table = pd.read_csv(\"/srv/shared/vanloo/rna2cn/SRP066982/run_data.csv\")\n",
    "run_table['Name'] = run_table['Experiment Title'].apply(lambda x : re.match('\\S+: (\\S+);.*', x).groups()[0])\n",
    "sample_table = sample_table.merge(run_table[['Experiment Accession', 'Name']], right_on='Experiment Accession', \n",
    "                   left_on='Experiment_s')\n",
    "sample_table.drop('Experiment Accession', axis=1, inplace=True)\n",
    "sample_table.set_index('Run_s', inplace=True)\n",
    "\n",
    "sample_table.head()"
   ]
  },
  {
   "cell_type": "code",
   "execution_count": null,
   "metadata": {},
   "outputs": [],
   "source": []
  },
  {
   "cell_type": "code",
   "execution_count": 3,
   "metadata": {},
   "outputs": [],
   "source": [
    "class FastqDump(SlurmExecutableTask):\n",
    "    sample = luigi.Parameter()\n",
    "    base_dir = luigi.Parameter(\"/srv/shared/vanloo/rna2cn/SRP066982\")\n",
    "    \n",
    "    def __init__(self, *args, **kwargs):\n",
    "        super().__init__(*args, **kwargs)\n",
    "        self.partition = 'main'\n",
    "        self.mem = 4000\n",
    "        self.n_cpu = 1\n",
    "    \n",
    "    def output(self):\n",
    "        return [LocalTarget(os.path.join(self.base_dir, self.sample, self.sample + \"_1.fastq.gz\")),\n",
    "                LocalTarget(os.path.join(self.base_dir, self.sample, self.sample + \"_2.fastq.gz\"))]\n",
    "    \n",
    "    def work_script(self):\n",
    "        return '''#!/bin/bash\n",
    "                    fastq-dump --split-3 --gzip --outdir {outdir}_temp {sample}\n",
    "                    mv {outdir}_temp/* {outdir}\n",
    "                    '''.format(outdir=os.path.dirname(self.output()[0].path),\n",
    "                               sample=self.sample)\n",
    "    \n",
    "@requires(FastqDump)\n",
    "class Trimmomatic(rna2cn.luigi.Trimmomatic):\n",
    "    pass\n",
    "\n",
    "@requires(Trimmomatic)\n",
    "class FastQC(rna2cn.luigi.FastQC):\n",
    "    pass\n",
    "\n",
    "@requires(Trimmomatic)\n",
    "class Kallisto(rna2cn.luigi.Kallisto):\n",
    "    pass\n",
    "\n",
    "@inherits(Kallisto)\n",
    "class AggregateKallisto(rna2cn.luigi.AggregateKallisto):\n",
    "    sample = None\n",
    "    def requires(self):\n",
    "        return {s: self.clone(Kallisto, sample=s) for s in rna_samples} \n",
    "   \n",
    "@requires(Kallisto, FastQC)\n",
    "class PipelineWrapper(luigi.WrapperTask):\n",
    "    pass\n",
    "\n",
    "@inherits(PipelineWrapper)    \n",
    "class SampleWrapper(luigi.WrapperTask):\n",
    "    sample = None\n",
    "    def requires(self):\n",
    "        return [self.clone_parent(sample=s) for s in rna_samples]\n",
    "    "
   ]
  },
  {
   "cell_type": "code",
   "execution_count": 4,
   "metadata": {
    "scrolled": true
   },
   "outputs": [
    {
     "name": "stderr",
     "output_type": "stream",
     "text": [
      "INFO: Informed scheduler that task   SampleWrapper__srv_shared_vanl_cc8f3fa457   has status   DONE\n",
      "INFO: Informed scheduler that task   AggregateKallisto__srv_shared_vanl_cc8f3fa457   has status   DONE\n",
      "INFO: Done scheduling tasks\n",
      "INFO: Running Worker with 50 processes\n",
      "INFO: Worker Worker(salt=805124997, workers=50, host=compute008, username=dbunting, pid=15699) was stopped. Shutting down Keep-Alive thread\n",
      "INFO: \n",
      "===== Luigi Execution Summary =====\n",
      "\n",
      "Scheduled 2 tasks of which:\n",
      "* 2 present dependencies were encountered:\n",
      "    - 1 AggregateKallisto(base_dir=/srv/shared/vanloo/rna2cn/SRP066982)\n",
      "    - 1 SampleWrapper(base_dir=/srv/shared/vanloo/rna2cn/SRP066982)\n",
      "\n",
      "Did not run any tasks\n",
      "This progress looks :) because there were no failed tasks or missing external dependencies\n",
      "\n",
      "===== Luigi Execution Summary =====\n",
      "\n"
     ]
    },
    {
     "data": {
      "text/plain": [
       "True"
      ]
     },
     "execution_count": 4,
     "metadata": {},
     "output_type": "execute_result"
    }
   ],
   "source": [
    "luigi.build([SampleWrapper(), AggregateKallisto()],local_scheduler=True, workers=50, log_level='INFO')"
   ]
  },
  {
   "cell_type": "code",
   "execution_count": null,
   "metadata": {
    "collapsed": true
   },
   "outputs": [],
   "source": []
  },
  {
   "cell_type": "markdown",
   "metadata": {},
   "source": [
    "# Exome Samples"
   ]
  },
  {
   "cell_type": "code",
   "execution_count": 5,
   "metadata": {
    "collapsed": true
   },
   "outputs": [],
   "source": [
    "class FastqDump(SlurmExecutableTask):\n",
    "    sample = luigi.Parameter()\n",
    "    base_dir = luigi.Parameter(\"/srv/shared/vanloo/rna2cn/SRP066982/exome\")\n",
    "    \n",
    "    def __init__(self, *args, **kwargs):\n",
    "        super().__init__(*args, **kwargs)\n",
    "        self.partition = 'main'\n",
    "        self.mem = 4000\n",
    "        self.n_cpu = 1\n",
    "    \n",
    "    def output(self):\n",
    "        return [LocalTarget(os.path.join(self.base_dir, self.sample, self.sample + \"_1.fastq.gz\")),\n",
    "                LocalTarget(os.path.join(self.base_dir, self.sample, self.sample + \"_2.fastq.gz\"))]\n",
    "    \n",
    "    def work_script(self):\n",
    "        return '''#!/bin/bash\n",
    "                    fastq-dump --split-3 --gzip --outdir {outdir}_temp {sample}\n",
    "                    mv {outdir}_temp/* {outdir}\n",
    "                    '''.format(outdir=os.path.dirname(self.output()[0].path),\n",
    "                               sample=self.sample)\n",
    "    \n",
    "@requires(FastqDump)\n",
    "class Trimmomatic(rna2cn.luigi.Trimmomatic):\n",
    "    pass\n",
    "\n",
    "@inherits(Kallisto)    \n",
    "class SampleWrapper(luigi.WrapperTask):\n",
    "    sample = None\n",
    "    def requires(self):\n",
    "        return [self.clone(FastqDump, sample=s) for s in samples_list]\n",
    "    "
   ]
  },
  {
   "cell_type": "code",
   "execution_count": null,
   "metadata": {
    "collapsed": true
   },
   "outputs": [],
   "source": []
  },
  {
   "cell_type": "markdown",
   "metadata": {},
   "source": [
    "# scRNASeq Analysis (Kallisto)"
   ]
  },
  {
   "cell_type": "markdown",
   "metadata": {},
   "source": [
    "## Convert the kallisto transcript level tpms to gene leve"
   ]
  },
  {
   "cell_type": "code",
   "execution_count": 6,
   "metadata": {},
   "outputs": [],
   "source": [
    "df = pd.read_table(\"/srv/shared/vanloo/rna2cn/SRP066982/kallisto_abundances.tsv\", header=[0,1], index_col=0)\n",
    "kallisto_tpm = df.xs('tpm', level=1, axis=1)"
   ]
  },
  {
   "cell_type": "code",
   "execution_count": 7,
   "metadata": {},
   "outputs": [],
   "source": [
    "data = pyensembl.ensembl_grch38\n",
    "#data.download()\n",
    "#data.index()"
   ]
  },
  {
   "cell_type": "code",
   "execution_count": 8,
   "metadata": {},
   "outputs": [],
   "source": [
    "# Match the column names\n",
    "kallisto_tpm.columns = [sample_table['Name'][x] for x in kallisto_tpm.columns]\n",
    "cols = list(kallisto_tpm.columns)\n",
    "kallisto_tpm = kallisto_tpm.reset_index()\n",
    "kallisto_tpm.columns = ['transcript_id'] + cols"
   ]
  },
  {
   "cell_type": "code",
   "execution_count": 9,
   "metadata": {},
   "outputs": [
    {
     "name": "stdout",
     "output_type": "stream",
     "text": [
      "(180065, 564)\n"
     ]
    }
   ],
   "source": [
    "# Drop transcripts with no expression\n",
    "print(kallisto_tpm.shape)"
   ]
  },
  {
   "cell_type": "code",
   "execution_count": 10,
   "metadata": {},
   "outputs": [
    {
     "name": "stdout",
     "output_type": "stream",
     "text": [
      "Done 0\n",
      "Done 10000\n",
      "Done 20000\n",
      "Done 30000\n",
      "Done 40000\n",
      "Done 50000\n",
      "Done 60000\n",
      "Done 70000\n",
      "Done 80000\n",
      "Done 90000\n",
      "Done 100000\n",
      "Done 110000\n",
      "Done 120000\n",
      "Done 130000\n",
      "Done 140000\n",
      "Done 150000\n",
      "Done 160000\n",
      "Done 170000\n",
      "Done 180000\n"
     ]
    }
   ],
   "source": [
    "gene_id = []\n",
    "for i, x in enumerate(kallisto_tpm['transcript_id']):\n",
    "    if i % 10000 == 0:\n",
    "        print(\"Done {}\".format(i))\n",
    "    if 'ENST' in x: \n",
    "        try:\n",
    "            gene_id.append(data.transcript_by_id(x.split('.')[0]).gene_id)\n",
    "        except:\n",
    "            gene_id.append('')\n",
    "    else:\n",
    "        gene_id.append(x)\n",
    "        \n",
    "kallisto_tpm['gene_id'] = gene_id\n",
    "kallisto_tpm.drop('transcript_id', axis=1, inplace=True)\n",
    "kallisto_tpm.drop(kallisto_tpm[kallisto_tpm['gene_id'] == ''].index, inplace=True)\n",
    "\n",
    "# HAVENT LOG TRANSFORMED YET SO CAN JUST SUM\n",
    "kallisto_tpm = kallisto_tpm.groupby('gene_id').sum()"
   ]
  },
  {
   "cell_type": "code",
   "execution_count": null,
   "metadata": {},
   "outputs": [],
   "source": []
  },
  {
   "cell_type": "code",
   "execution_count": 11,
   "metadata": {},
   "outputs": [
    {
     "name": "stdout",
     "output_type": "stream",
     "text": [
      "(34951, 563)\n",
      "(14267, 563)\n"
     ]
    },
    {
     "data": {
      "text/html": [
       "<div>\n",
       "<style>\n",
       "    .dataframe thead tr:only-child th {\n",
       "        text-align: right;\n",
       "    }\n",
       "\n",
       "    .dataframe thead th {\n",
       "        text-align: left;\n",
       "    }\n",
       "\n",
       "    .dataframe tbody tr th {\n",
       "        vertical-align: top;\n",
       "    }\n",
       "</style>\n",
       "<table border=\"1\" class=\"dataframe\">\n",
       "  <thead>\n",
       "    <tr style=\"text-align: right;\">\n",
       "      <th></th>\n",
       "      <th>BC01_Pooled</th>\n",
       "      <th>BC01_Tumor</th>\n",
       "      <th>BC02_Pooled</th>\n",
       "      <th>BC03_Pooled</th>\n",
       "      <th>BC03LN_Pooled</th>\n",
       "      <th>BC04_Tumor</th>\n",
       "      <th>BC04LN_Pooled</th>\n",
       "      <th>BC01_02</th>\n",
       "      <th>BC01_03</th>\n",
       "      <th>BC01_04</th>\n",
       "      <th>...</th>\n",
       "      <th>BC11_04</th>\n",
       "      <th>BC11_07</th>\n",
       "      <th>BC11_28</th>\n",
       "      <th>BC11_43</th>\n",
       "      <th>BC11_56</th>\n",
       "      <th>BC11_69</th>\n",
       "      <th>BC11_70</th>\n",
       "      <th>BC11_78</th>\n",
       "      <th>BC11_81</th>\n",
       "      <th>BC11_88</th>\n",
       "    </tr>\n",
       "    <tr>\n",
       "      <th>gene_id</th>\n",
       "      <th></th>\n",
       "      <th></th>\n",
       "      <th></th>\n",
       "      <th></th>\n",
       "      <th></th>\n",
       "      <th></th>\n",
       "      <th></th>\n",
       "      <th></th>\n",
       "      <th></th>\n",
       "      <th></th>\n",
       "      <th></th>\n",
       "      <th></th>\n",
       "      <th></th>\n",
       "      <th></th>\n",
       "      <th></th>\n",
       "      <th></th>\n",
       "      <th></th>\n",
       "      <th></th>\n",
       "      <th></th>\n",
       "      <th></th>\n",
       "      <th></th>\n",
       "    </tr>\n",
       "  </thead>\n",
       "  <tbody>\n",
       "    <tr>\n",
       "      <th>ENSG00000000003</th>\n",
       "      <td>1.891314</td>\n",
       "      <td>3.396703</td>\n",
       "      <td>7.160428</td>\n",
       "      <td>3.570900</td>\n",
       "      <td>3.442452</td>\n",
       "      <td>6.112786</td>\n",
       "      <td>5.270721</td>\n",
       "      <td>1.614917</td>\n",
       "      <td>0.000000</td>\n",
       "      <td>1.075471</td>\n",
       "      <td>...</td>\n",
       "      <td>0.000000</td>\n",
       "      <td>5.717229</td>\n",
       "      <td>5.098420</td>\n",
       "      <td>3.982720</td>\n",
       "      <td>3.223234</td>\n",
       "      <td>0.000000</td>\n",
       "      <td>1.432393</td>\n",
       "      <td>3.629794</td>\n",
       "      <td>7.772193</td>\n",
       "      <td>1.440538</td>\n",
       "    </tr>\n",
       "    <tr>\n",
       "      <th>ENSG00000000419</th>\n",
       "      <td>6.073208</td>\n",
       "      <td>5.139330</td>\n",
       "      <td>7.152230</td>\n",
       "      <td>5.900899</td>\n",
       "      <td>6.625123</td>\n",
       "      <td>5.499609</td>\n",
       "      <td>5.607501</td>\n",
       "      <td>6.426429</td>\n",
       "      <td>7.193230</td>\n",
       "      <td>3.293972</td>\n",
       "      <td>...</td>\n",
       "      <td>8.289378</td>\n",
       "      <td>0.000000</td>\n",
       "      <td>0.000000</td>\n",
       "      <td>5.115608</td>\n",
       "      <td>0.000000</td>\n",
       "      <td>0.000000</td>\n",
       "      <td>0.000000</td>\n",
       "      <td>7.092133</td>\n",
       "      <td>4.813186</td>\n",
       "      <td>7.668410</td>\n",
       "    </tr>\n",
       "    <tr>\n",
       "      <th>ENSG00000000457</th>\n",
       "      <td>5.877358</td>\n",
       "      <td>3.087734</td>\n",
       "      <td>3.847656</td>\n",
       "      <td>3.538006</td>\n",
       "      <td>3.107840</td>\n",
       "      <td>4.512266</td>\n",
       "      <td>4.582839</td>\n",
       "      <td>2.184579</td>\n",
       "      <td>0.000000</td>\n",
       "      <td>6.542157</td>\n",
       "      <td>...</td>\n",
       "      <td>0.000000</td>\n",
       "      <td>3.644904</td>\n",
       "      <td>0.000000</td>\n",
       "      <td>0.000000</td>\n",
       "      <td>0.000000</td>\n",
       "      <td>1.881986</td>\n",
       "      <td>1.124467</td>\n",
       "      <td>0.000000</td>\n",
       "      <td>0.000000</td>\n",
       "      <td>3.797591</td>\n",
       "    </tr>\n",
       "    <tr>\n",
       "      <th>ENSG00000000460</th>\n",
       "      <td>2.687026</td>\n",
       "      <td>2.652112</td>\n",
       "      <td>4.319045</td>\n",
       "      <td>1.082431</td>\n",
       "      <td>4.409370</td>\n",
       "      <td>4.117328</td>\n",
       "      <td>3.891710</td>\n",
       "      <td>0.000000</td>\n",
       "      <td>3.594002</td>\n",
       "      <td>1.416472</td>\n",
       "      <td>...</td>\n",
       "      <td>0.000000</td>\n",
       "      <td>3.030255</td>\n",
       "      <td>4.033051</td>\n",
       "      <td>0.000000</td>\n",
       "      <td>0.000000</td>\n",
       "      <td>1.316760</td>\n",
       "      <td>8.155298</td>\n",
       "      <td>5.154086</td>\n",
       "      <td>4.186302</td>\n",
       "      <td>0.000000</td>\n",
       "    </tr>\n",
       "    <tr>\n",
       "      <th>ENSG00000000971</th>\n",
       "      <td>0.000000</td>\n",
       "      <td>3.951628</td>\n",
       "      <td>2.087171</td>\n",
       "      <td>0.000000</td>\n",
       "      <td>0.000000</td>\n",
       "      <td>5.603085</td>\n",
       "      <td>2.434393</td>\n",
       "      <td>1.276044</td>\n",
       "      <td>0.000000</td>\n",
       "      <td>0.000000</td>\n",
       "      <td>...</td>\n",
       "      <td>1.519743</td>\n",
       "      <td>0.000000</td>\n",
       "      <td>0.000000</td>\n",
       "      <td>0.000000</td>\n",
       "      <td>0.000000</td>\n",
       "      <td>0.000000</td>\n",
       "      <td>5.357463</td>\n",
       "      <td>1.136385</td>\n",
       "      <td>0.000000</td>\n",
       "      <td>0.000000</td>\n",
       "    </tr>\n",
       "  </tbody>\n",
       "</table>\n",
       "<p>5 rows × 563 columns</p>\n",
       "</div>"
      ],
      "text/plain": [
       "                 BC01_Pooled  BC01_Tumor  BC02_Pooled  BC03_Pooled  \\\n",
       "gene_id                                                              \n",
       "ENSG00000000003     1.891314    3.396703     7.160428     3.570900   \n",
       "ENSG00000000419     6.073208    5.139330     7.152230     5.900899   \n",
       "ENSG00000000457     5.877358    3.087734     3.847656     3.538006   \n",
       "ENSG00000000460     2.687026    2.652112     4.319045     1.082431   \n",
       "ENSG00000000971     0.000000    3.951628     2.087171     0.000000   \n",
       "\n",
       "                 BC03LN_Pooled  BC04_Tumor  BC04LN_Pooled   BC01_02   BC01_03  \\\n",
       "gene_id                                                                         \n",
       "ENSG00000000003       3.442452    6.112786       5.270721  1.614917  0.000000   \n",
       "ENSG00000000419       6.625123    5.499609       5.607501  6.426429  7.193230   \n",
       "ENSG00000000457       3.107840    4.512266       4.582839  2.184579  0.000000   \n",
       "ENSG00000000460       4.409370    4.117328       3.891710  0.000000  3.594002   \n",
       "ENSG00000000971       0.000000    5.603085       2.434393  1.276044  0.000000   \n",
       "\n",
       "                  BC01_04    ...      BC11_04   BC11_07   BC11_28   BC11_43  \\\n",
       "gene_id                      ...                                              \n",
       "ENSG00000000003  1.075471    ...     0.000000  5.717229  5.098420  3.982720   \n",
       "ENSG00000000419  3.293972    ...     8.289378  0.000000  0.000000  5.115608   \n",
       "ENSG00000000457  6.542157    ...     0.000000  3.644904  0.000000  0.000000   \n",
       "ENSG00000000460  1.416472    ...     0.000000  3.030255  4.033051  0.000000   \n",
       "ENSG00000000971  0.000000    ...     1.519743  0.000000  0.000000  0.000000   \n",
       "\n",
       "                  BC11_56   BC11_69   BC11_70   BC11_78   BC11_81   BC11_88  \n",
       "gene_id                                                                      \n",
       "ENSG00000000003  3.223234  0.000000  1.432393  3.629794  7.772193  1.440538  \n",
       "ENSG00000000419  0.000000  0.000000  0.000000  7.092133  4.813186  7.668410  \n",
       "ENSG00000000457  0.000000  1.881986  1.124467  0.000000  0.000000  3.797591  \n",
       "ENSG00000000460  0.000000  1.316760  8.155298  5.154086  4.186302  0.000000  \n",
       "ENSG00000000971  0.000000  0.000000  5.357463  1.136385  0.000000  0.000000  \n",
       "\n",
       "[5 rows x 563 columns]"
      ]
     },
     "execution_count": 11,
     "metadata": {},
     "output_type": "execute_result"
    }
   ],
   "source": [
    "# Set genes with TPM < 1 to 0\n",
    "kallisto_tpm = kallisto_tpm.where(kallisto_tpm > 1, other=0)\n",
    "print(kallisto_tpm.shape)\n",
    "# Drop genes expressed in < 10% of samples\n",
    "kallisto_tpm.drop( kallisto_tpm[(kallisto_tpm > 0).mean(axis = 1) < 0.1].index , axis=0, inplace=True)\n",
    "print(kallisto_tpm.shape)\n",
    "# log transform\n",
    "kallisto_tpm = np.log2(kallisto_tpm + 1)\n",
    "# Drop the ERCC spike ins\n",
    "kallisto_tpm.drop(kallisto_tpm[kallisto_tpm.index.str.contains('ERCC')].index, inplace=True, axis=0)\n",
    "\n",
    "kallisto_tpm.head()"
   ]
  },
  {
   "cell_type": "code",
   "execution_count": 12,
   "metadata": {},
   "outputs": [
    {
     "data": {
      "text/plain": [
       "(14267, 533)"
      ]
     },
     "execution_count": 12,
     "metadata": {},
     "output_type": "execute_result"
    },
    {
     "name": "stderr",
     "output_type": "stream",
     "text": [
      "/home/dbunting/miniconda3/lib/python3.6/site-packages/matplotlib/font_manager.py:1297: UserWarning: findfont: Font family ['sans-serif'] not found. Falling back to DejaVu Sans\n",
      "  (prop.get_family(), self.defaultFamily[fontext]))\n"
     ]
    },
    {
     "data": {
      "image/png": "[encoded data removed]",
      "text/plain": [
       "<matplotlib.figure.Figure at 0x2ab4ef127080>"
      ]
     },
     "metadata": {},
     "output_type": "display_data"
    }
   ],
   "source": [
    "plt.figure(figsize=(8,6))\n",
    "sns.distplot((kallisto_tpm > 0).sum(axis=0), kde=False)\n",
    "plt.xlabel(\"Expressed genes (tpm > 1)\")\n",
    "plt.ylabel(\"Number of cells\")\n",
    "plt.title(\"Expressed genes per cell\")\n",
    "plt.vlines(3000, 0,140)\n",
    "\n",
    "kallisto_tpm.drop( kallisto_tpm.columns[(kallisto_tpm > 0).sum(axis = 0) < 3000] , axis=1, inplace=True)\n",
    "kallisto_tpm.shape"
   ]
  },
  {
   "cell_type": "markdown",
   "metadata": {},
   "source": [
    "## PCA plot"
   ]
  },
  {
   "cell_type": "code",
   "execution_count": 13,
   "metadata": {},
   "outputs": [],
   "source": [
    "pca = sklearn.decomposition.PCA(2)\n",
    "sc_cols = list(set.intersection(set(sample_table.query(\"isBulk == False\")['Name']), kallisto_tpm.columns))\n",
    "bulk_cols = list(set.intersection(set(sample_table.query(\"isBulk == True\")['Name']), kallisto_tpm.columns))\n",
    "sc_transformed = pca.fit_transform(kallisto_tpm[sc_cols].T)\n",
    "bulk_transformed = pca.transform(kallisto_tpm[bulk_cols].T)"
   ]
  },
  {
   "cell_type": "code",
   "execution_count": 14,
   "metadata": {},
   "outputs": [],
   "source": [
    "col_key = 'patient_id_s'\n",
    "sources = sample_table[col_key].unique() \n",
    "pal = {s: sns.color_palette('Set2', n_colors=len(sources))[i] for i,s in enumerate(sources)}\n",
    "\n",
    "pal['BC07LN'] = pal['BC07LN']; del pal['BC07LN']\n",
    "pal['BC03LN'] = pal['BC03']; del pal['BC03LN']\n",
    "pal['BC09_Re'] = pal['BC09']; del pal['BC09_Re']"
   ]
  },
  {
   "cell_type": "code",
   "execution_count": 15,
   "metadata": {
    "scrolled": false
   },
   "outputs": [
    {
     "data": {
      "text/plain": [
       "<matplotlib.legend.Legend at 0x2ab4f1af7780>"
      ]
     },
     "execution_count": 15,
     "metadata": {},
     "output_type": "execute_result"
    },
    {
     "name": "stderr",
     "output_type": "stream",
     "text": [
      "/home/dbunting/miniconda3/lib/python3.6/site-packages/matplotlib/font_manager.py:1297: UserWarning: findfont: Font family ['sans-serif'] not found. Falling back to DejaVu Sans\n",
      "  (prop.get_family(), self.defaultFamily[fontext]))\n"
     ]
    },
    {
     "data": {
      "image/png": "[encoded data removed]",
      "text/plain": [
       "<matplotlib.figure.Figure at 0x2ab4f11e4908>"
      ]
     },
     "metadata": {},
     "output_type": "display_data"
    }
   ],
   "source": [
    "plt.figure(figsize=(8,8))\n",
    "\n",
    "for i,(_,row) in enumerate(sample_table.set_index('Name').loc[sc_cols].iterrows()):\n",
    "    plt.scatter(sc_transformed[i,0], sc_transformed[i,1], \n",
    "                c=pal[row[col_key][:4]], label=row[col_key])\n",
    "    \n",
    "for i,(_,row) in enumerate(sample_table.set_index('Name').loc[bulk_cols].iterrows()):\n",
    "    plt.scatter(bulk_transformed[i,0], bulk_transformed[i,1], \n",
    "                c=pal[row[col_key][:4]], label=row[col_key], marker='D', s=150)\n",
    "\n",
    "\n",
    "plt.xlabel(\"PC1 {0:.1f}% variance\".format(pca.explained_variance_ratio_[0]*100), size=16)\n",
    "plt.ylabel(\"PC2 {0:.1f}% variance\".format(pca.explained_variance_ratio_[1]*100), size=16)\n",
    "\n",
    "plt.legend([plt.Line2D((0,1),(0,0), color=v, marker='o', linestyle='') for v in pal.values()], \n",
    "            list(pal.keys()))"
   ]
  },
  {
   "cell_type": "code",
   "execution_count": null,
   "metadata": {},
   "outputs": [],
   "source": []
  },
  {
   "cell_type": "markdown",
   "metadata": {},
   "source": [
    "# Orginal paper data\n",
    "\n",
    "Recreate the filtering described by the original authors"
   ]
  },
  {
   "cell_type": "code",
   "execution_count": 16,
   "metadata": {},
   "outputs": [
    {
     "name": "stdout",
     "output_type": "stream",
     "text": [
      "(21164, 566)\n",
      "(21164, 529)\n",
      "(9876, 529)\n"
     ]
    }
   ],
   "source": [
    "# Cells dropped by the original authors because they failed one if their QC metrics\n",
    "\n",
    "drop_cells = ['BC01_11','BC01_24','BC01_49','BC01_54',\n",
    "    'BC02_27','BC02_33','BC02_80','BC03_45','BC03_51',\n",
    "    'BC03_63','BC03_88','BC03LN_77','BC03LN_87','BC04_05',\n",
    "    'BC04_06','BC04_15','BC04_25','BC05_40','BC06_07',\n",
    "    'BC06_09','BC06_22','BC06_45','BC06_49','BC06_57',\n",
    "    'BC06_62','BC07_96', 'BC07LN_20','BC08_12','BC09_02',\n",
    "    'BC09_27','BC09_54','BC09_Re_68','BC09_Re_72','BC10_27',\n",
    "]\n",
    "\n",
    "df = pd.read_table('/srv/shared/vanloo/rna2cn/SRP066982/GSE75688_GEO_processed_Breast_Cancer_raw_TPM_matrix.txt')\n",
    "print(df.shape)\n",
    "\n",
    "# Drop cells that failed read level QC\n",
    "df.drop(drop_cells, axis=1, inplace=True)\n",
    "df.drop('BC01_Tumor', axis=1, inplace=True)\n",
    "df.drop(['gene_name', 'gene_type'], axis=1, inplace=True)\n",
    "\n",
    "sc_cols = [x for x in df.columns if ('Pool' not in x) and ('Tumor' not in x) and ('gene' not in x)]\n",
    "bulk_cols = [x for x in df.columns if ('Pool' in x) or ('Tumor'  in x)]\n",
    "\n",
    "# Set genes with TPM < 1 to 0\n",
    "df.loc[:, sc_cols] = df[sc_cols].where(np.array(df[sc_cols] > 1), other=0)\n",
    "print(df.shape)\n",
    "\n",
    "\n",
    "# Drop genes expressed in < 10% of samples\n",
    "df.drop( df[(df[sc_cols] > 0).mean(axis = 1) < 0.1].index , axis=0, inplace=True)\n",
    "print(df.shape)\n",
    "\n",
    "sc_patient = np.array([x[:4] for x in sc_cols])\n",
    "bulk_patient = np.array([x[:4] for x in bulk_cols])\n",
    "\n",
    "# log transform\n",
    "df.loc[:,sc_cols] = np.log2(df[sc_cols] + 1) \n",
    "df.loc[:,bulk_cols] = np.log2(df[bulk_cols] + 1) \n",
    "\n",
    "sc_tpm = df[sc_cols]\n",
    "bulk_tpm = df[bulk_cols]\n",
    "rsem_tpm = df.set_index('gene_id')"
   ]
  },
  {
   "cell_type": "code",
   "execution_count": 17,
   "metadata": {},
   "outputs": [
    {
     "data": {
      "text/html": [
       "<div>\n",
       "<style>\n",
       "    .dataframe thead tr:only-child th {\n",
       "        text-align: right;\n",
       "    }\n",
       "\n",
       "    .dataframe thead th {\n",
       "        text-align: left;\n",
       "    }\n",
       "\n",
       "    .dataframe tbody tr th {\n",
       "        vertical-align: top;\n",
       "    }\n",
       "</style>\n",
       "<table border=\"1\" class=\"dataframe\">\n",
       "  <thead>\n",
       "    <tr style=\"text-align: right;\">\n",
       "      <th></th>\n",
       "      <th>BC01_Pooled</th>\n",
       "      <th>BC02_Pooled</th>\n",
       "      <th>BC03_Pooled</th>\n",
       "      <th>BC03LN_Pooled</th>\n",
       "      <th>BC04_Pooled</th>\n",
       "      <th>BC05_Pooled</th>\n",
       "      <th>BC06_Pooled</th>\n",
       "      <th>BC07_Tumor</th>\n",
       "      <th>BC07LN_Pooled</th>\n",
       "      <th>BC08_Pooled</th>\n",
       "      <th>...</th>\n",
       "      <th>BC11_04</th>\n",
       "      <th>BC11_07</th>\n",
       "      <th>BC11_28</th>\n",
       "      <th>BC11_43</th>\n",
       "      <th>BC11_56</th>\n",
       "      <th>BC11_69</th>\n",
       "      <th>BC11_70</th>\n",
       "      <th>BC11_78</th>\n",
       "      <th>BC11_81</th>\n",
       "      <th>BC11_88</th>\n",
       "    </tr>\n",
       "    <tr>\n",
       "      <th>gene_id</th>\n",
       "      <th></th>\n",
       "      <th></th>\n",
       "      <th></th>\n",
       "      <th></th>\n",
       "      <th></th>\n",
       "      <th></th>\n",
       "      <th></th>\n",
       "      <th></th>\n",
       "      <th></th>\n",
       "      <th></th>\n",
       "      <th></th>\n",
       "      <th></th>\n",
       "      <th></th>\n",
       "      <th></th>\n",
       "      <th></th>\n",
       "      <th></th>\n",
       "      <th></th>\n",
       "      <th></th>\n",
       "      <th></th>\n",
       "      <th></th>\n",
       "      <th></th>\n",
       "    </tr>\n",
       "  </thead>\n",
       "  <tbody>\n",
       "    <tr>\n",
       "      <th>ENSG00000206585.1</th>\n",
       "      <td>0.000000</td>\n",
       "      <td>0.0</td>\n",
       "      <td>4.634593</td>\n",
       "      <td>3.768714</td>\n",
       "      <td>0.000000</td>\n",
       "      <td>4.31687</td>\n",
       "      <td>0.0</td>\n",
       "      <td>0.0</td>\n",
       "      <td>3.152183</td>\n",
       "      <td>0.000000</td>\n",
       "      <td>...</td>\n",
       "      <td>2.629939</td>\n",
       "      <td>0.0</td>\n",
       "      <td>0.000000</td>\n",
       "      <td>3.124328</td>\n",
       "      <td>0.000000</td>\n",
       "      <td>6.707635</td>\n",
       "      <td>4.399171</td>\n",
       "      <td>5.854245</td>\n",
       "      <td>0.0</td>\n",
       "      <td>0.0</td>\n",
       "    </tr>\n",
       "    <tr>\n",
       "      <th>ENSG00000206588.1</th>\n",
       "      <td>4.669027</td>\n",
       "      <td>0.0</td>\n",
       "      <td>4.634593</td>\n",
       "      <td>3.768714</td>\n",
       "      <td>3.116032</td>\n",
       "      <td>4.31687</td>\n",
       "      <td>0.0</td>\n",
       "      <td>0.0</td>\n",
       "      <td>3.152183</td>\n",
       "      <td>5.029453</td>\n",
       "      <td>...</td>\n",
       "      <td>2.629939</td>\n",
       "      <td>0.0</td>\n",
       "      <td>4.909293</td>\n",
       "      <td>3.124328</td>\n",
       "      <td>4.486071</td>\n",
       "      <td>6.707635</td>\n",
       "      <td>4.399171</td>\n",
       "      <td>5.854245</td>\n",
       "      <td>0.0</td>\n",
       "      <td>0.0</td>\n",
       "    </tr>\n",
       "    <tr>\n",
       "      <th>ENSG00000206596.1</th>\n",
       "      <td>4.669027</td>\n",
       "      <td>0.0</td>\n",
       "      <td>4.634593</td>\n",
       "      <td>3.768714</td>\n",
       "      <td>3.116032</td>\n",
       "      <td>4.31687</td>\n",
       "      <td>0.0</td>\n",
       "      <td>0.0</td>\n",
       "      <td>3.152183</td>\n",
       "      <td>5.029453</td>\n",
       "      <td>...</td>\n",
       "      <td>2.629939</td>\n",
       "      <td>0.0</td>\n",
       "      <td>4.909293</td>\n",
       "      <td>3.124328</td>\n",
       "      <td>4.486071</td>\n",
       "      <td>6.707635</td>\n",
       "      <td>4.399171</td>\n",
       "      <td>5.854245</td>\n",
       "      <td>0.0</td>\n",
       "      <td>0.0</td>\n",
       "    </tr>\n",
       "    <tr>\n",
       "      <th>ENSG00000206652.1</th>\n",
       "      <td>4.669027</td>\n",
       "      <td>0.0</td>\n",
       "      <td>4.634593</td>\n",
       "      <td>3.768714</td>\n",
       "      <td>3.116032</td>\n",
       "      <td>4.31687</td>\n",
       "      <td>0.0</td>\n",
       "      <td>0.0</td>\n",
       "      <td>3.152183</td>\n",
       "      <td>5.029453</td>\n",
       "      <td>...</td>\n",
       "      <td>2.629939</td>\n",
       "      <td>0.0</td>\n",
       "      <td>4.909293</td>\n",
       "      <td>3.124328</td>\n",
       "      <td>4.486071</td>\n",
       "      <td>6.707635</td>\n",
       "      <td>4.399171</td>\n",
       "      <td>5.854245</td>\n",
       "      <td>0.0</td>\n",
       "      <td>0.0</td>\n",
       "    </tr>\n",
       "    <tr>\n",
       "      <th>ENSG00000206737.1</th>\n",
       "      <td>4.669027</td>\n",
       "      <td>0.0</td>\n",
       "      <td>4.634593</td>\n",
       "      <td>3.768714</td>\n",
       "      <td>3.116032</td>\n",
       "      <td>4.31687</td>\n",
       "      <td>0.0</td>\n",
       "      <td>0.0</td>\n",
       "      <td>3.152183</td>\n",
       "      <td>5.029453</td>\n",
       "      <td>...</td>\n",
       "      <td>2.629939</td>\n",
       "      <td>0.0</td>\n",
       "      <td>4.909293</td>\n",
       "      <td>3.124328</td>\n",
       "      <td>4.486071</td>\n",
       "      <td>6.707635</td>\n",
       "      <td>4.399171</td>\n",
       "      <td>5.854245</td>\n",
       "      <td>0.0</td>\n",
       "      <td>0.0</td>\n",
       "    </tr>\n",
       "  </tbody>\n",
       "</table>\n",
       "<p>5 rows × 528 columns</p>\n",
       "</div>"
      ],
      "text/plain": [
       "                   BC01_Pooled  BC02_Pooled  BC03_Pooled  BC03LN_Pooled  \\\n",
       "gene_id                                                                   \n",
       "ENSG00000206585.1     0.000000          0.0     4.634593       3.768714   \n",
       "ENSG00000206588.1     4.669027          0.0     4.634593       3.768714   \n",
       "ENSG00000206596.1     4.669027          0.0     4.634593       3.768714   \n",
       "ENSG00000206652.1     4.669027          0.0     4.634593       3.768714   \n",
       "ENSG00000206737.1     4.669027          0.0     4.634593       3.768714   \n",
       "\n",
       "                   BC04_Pooled  BC05_Pooled  BC06_Pooled  BC07_Tumor  \\\n",
       "gene_id                                                                \n",
       "ENSG00000206585.1     0.000000      4.31687          0.0         0.0   \n",
       "ENSG00000206588.1     3.116032      4.31687          0.0         0.0   \n",
       "ENSG00000206596.1     3.116032      4.31687          0.0         0.0   \n",
       "ENSG00000206652.1     3.116032      4.31687          0.0         0.0   \n",
       "ENSG00000206737.1     3.116032      4.31687          0.0         0.0   \n",
       "\n",
       "                   BC07LN_Pooled  BC08_Pooled   ...      BC11_04  BC11_07  \\\n",
       "gene_id                                         ...                         \n",
       "ENSG00000206585.1       3.152183     0.000000   ...     2.629939      0.0   \n",
       "ENSG00000206588.1       3.152183     5.029453   ...     2.629939      0.0   \n",
       "ENSG00000206596.1       3.152183     5.029453   ...     2.629939      0.0   \n",
       "ENSG00000206652.1       3.152183     5.029453   ...     2.629939      0.0   \n",
       "ENSG00000206737.1       3.152183     5.029453   ...     2.629939      0.0   \n",
       "\n",
       "                    BC11_28   BC11_43   BC11_56   BC11_69   BC11_70   BC11_78  \\\n",
       "gene_id                                                                         \n",
       "ENSG00000206585.1  0.000000  3.124328  0.000000  6.707635  4.399171  5.854245   \n",
       "ENSG00000206588.1  4.909293  3.124328  4.486071  6.707635  4.399171  5.854245   \n",
       "ENSG00000206596.1  4.909293  3.124328  4.486071  6.707635  4.399171  5.854245   \n",
       "ENSG00000206652.1  4.909293  3.124328  4.486071  6.707635  4.399171  5.854245   \n",
       "ENSG00000206737.1  4.909293  3.124328  4.486071  6.707635  4.399171  5.854245   \n",
       "\n",
       "                   BC11_81  BC11_88  \n",
       "gene_id                              \n",
       "ENSG00000206585.1      0.0      0.0  \n",
       "ENSG00000206588.1      0.0      0.0  \n",
       "ENSG00000206596.1      0.0      0.0  \n",
       "ENSG00000206652.1      0.0      0.0  \n",
       "ENSG00000206737.1      0.0      0.0  \n",
       "\n",
       "[5 rows x 528 columns]"
      ]
     },
     "execution_count": 17,
     "metadata": {},
     "output_type": "execute_result"
    }
   ],
   "source": [
    "rsem_tpm.tail()"
   ]
  },
  {
   "cell_type": "markdown",
   "metadata": {},
   "source": [
    "NB the last few rows are identical, this is also true in the original published data"
   ]
  },
  {
   "cell_type": "code",
   "execution_count": 18,
   "metadata": {},
   "outputs": [
    {
     "name": "stderr",
     "output_type": "stream",
     "text": [
      "/home/dbunting/miniconda3/lib/python3.6/site-packages/matplotlib/font_manager.py:1297: UserWarning: findfont: Font family ['sans-serif'] not found. Falling back to DejaVu Sans\n",
      "  (prop.get_family(), self.defaultFamily[fontext]))\n"
     ]
    },
    {
     "data": {
      "image/png": "[encoded data removed]",
      "text/plain": [
       "<matplotlib.figure.Figure at 0x2ab4f1bbcdd8>"
      ]
     },
     "metadata": {},
     "output_type": "display_data"
    }
   ],
   "source": [
    "pca = sklearn.decomposition.PCA(2)\n",
    "sc_transformed =  pca.fit_transform(sc_tpm.T)\n",
    "bulk_transformed = pca.transform(bulk_tpm.T)\n",
    "plt.figure(figsize=(8,8))\n",
    "\n",
    "plt.scatter(sc_transformed[:,0], sc_transformed[:,1], \n",
    "            c=[pal[x] for x in sc_patient])\n",
    "plt.scatter(bulk_transformed[:,0], bulk_transformed[:,1],\n",
    "            c=[pal[x] for x in bulk_patient],\n",
    "            marker='D', s=150)\n",
    "\n",
    "plt.xlabel(\"PC1 {0:.1f}% variance\".format(pca.explained_variance_ratio_[0]*100), size=16)\n",
    "plt.ylabel(\"PC2 {0:.1f}% variance\".format(pca.explained_variance_ratio_[1]*100), size=16)\n",
    "\n",
    "plt.legend([plt.Line2D((0,1),(0,0), color=v, marker='o', linestyle='') for v in pal.values()], \n",
    "            list(pal.keys()))\n",
    "paper_pca_ax = plt.gca()"
   ]
  },
  {
   "cell_type": "markdown",
   "metadata": {},
   "source": [
    "## The Kallisto and the RSEM PCA plots look pretty similar!"
   ]
  },
  {
   "cell_type": "markdown",
   "metadata": {},
   "source": [
    "# Complare Kallisto and RSEM gene TPMs"
   ]
  },
  {
   "cell_type": "code",
   "execution_count": 19,
   "metadata": {},
   "outputs": [],
   "source": [
    "kallisto_melt = kallisto_tpm.reset_index().melt(id_vars='gene_id', var_name='sample', value_name='kallisto_tpm')\n",
    "rsem_melt = rsem_tpm.reset_index().melt(id_vars='gene_id',var_name='sample', value_name='rsem_tpm')\n",
    "rsem_melt['gene_id'] = rsem_melt['gene_id'].apply(lambda x: x.split('.')[0])\n",
    "merged = pd.merge(kallisto_melt, rsem_melt, on=['gene_id', 'sample'])"
   ]
  },
  {
   "cell_type": "code",
   "execution_count": 20,
   "metadata": {},
   "outputs": [
    {
     "name": "stderr",
     "output_type": "stream",
     "text": [
      "/home/dbunting/miniconda3/lib/python3.6/site-packages/matplotlib/font_manager.py:1297: UserWarning: findfont: Font family ['sans-serif'] not found. Falling back to DejaVu Sans\n",
      "  (prop.get_family(), self.defaultFamily[fontext]))\n"
     ]
    },
    {
     "data": {
      "text/plain": [
       "<matplotlib.colorbar.Colorbar at 0x2ab50a824160>"
      ]
     },
     "execution_count": 20,
     "metadata": {},
     "output_type": "execute_result"
    },
    {
     "data": {
      "image/png": "[encoded data removed]",
      "text/plain": [
       "<matplotlib.figure.Figure at 0x2ab4f1146208>"
      ]
     },
     "metadata": {},
     "output_type": "display_data"
    }
   ],
   "source": [
    "sns.jointplot(data=merged.query(\"sample == 'BC01_03'\"),  x='rsem_tpm', y='kallisto_tpm', kind=\"hex\", xlim=(0,15), ylim=(0,15))\n",
    "plt.colorbar()"
   ]
  },
  {
   "cell_type": "code",
   "execution_count": 21,
   "metadata": {},
   "outputs": [
    {
     "data": {
      "text/plain": [
       "<matplotlib.axes._subplots.AxesSubplot at 0x2ab50a710e48>"
      ]
     },
     "execution_count": 21,
     "metadata": {},
     "output_type": "execute_result"
    },
    {
     "name": "stderr",
     "output_type": "stream",
     "text": [
      "/home/dbunting/miniconda3/lib/python3.6/site-packages/matplotlib/font_manager.py:1297: UserWarning: findfont: Font family ['sans-serif'] not found. Falling back to DejaVu Sans\n",
      "  (prop.get_family(), self.defaultFamily[fontext]))\n"
     ]
    },
    {
     "data": {
      "image/png": "[encoded data removed]",
      "text/plain": [
       "<matplotlib.figure.Figure at 0x2ab4f1bb4a90>"
      ]
     },
     "metadata": {},
     "output_type": "display_data"
    }
   ],
   "source": [
    "corr = merged.groupby('sample').corr().xs('rsem_tpm', level=1)['kallisto_tpm']\n",
    "sns.distplot(corr)"
   ]
  },
  {
   "cell_type": "markdown",
   "metadata": {},
   "source": [
    "All of the lowest peak of correlations ~0.4 are from patient BC04"
   ]
  },
  {
   "cell_type": "code",
   "execution_count": 22,
   "metadata": {},
   "outputs": [
    {
     "data": {
      "text/plain": [
       "((14267, 533), (9876, 528))"
      ]
     },
     "execution_count": 22,
     "metadata": {},
     "output_type": "execute_result"
    }
   ],
   "source": [
    "kallisto_tpm.shape, rsem_tpm.shape"
   ]
  },
  {
   "cell_type": "code",
   "execution_count": null,
   "metadata": {},
   "outputs": [],
   "source": []
  },
  {
   "cell_type": "code",
   "execution_count": null,
   "metadata": {},
   "outputs": [],
   "source": []
  }
 ],
 "metadata": {
  "kernelspec": {
   "display_name": "Python 3",
   "language": "python",
   "name": "python3"
  },
  "language_info": {
   "codemirror_mode": {
    "name": "ipython",
    "version": 3
   },
   "file_extension": ".py",
   "mimetype": "text/x-python",
   "name": "python",
   "nbconvert_exporter": "python",
   "pygments_lexer": "ipython3",
   "version": "3.6.1"
  }
 },
 "nbformat": 4,
 "nbformat_minor": 2
}
