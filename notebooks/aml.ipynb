{
 "cells": [
  {
   "cell_type": "markdown",
   "metadata": {},
   "source": [
    "# AML  xenograft model RNA Samples"
   ]
  },
  {
   "cell_type": "code",
   "execution_count": 1,
   "metadata": {
    "collapsed": true
   },
   "outputs": [],
   "source": [
    "import rna2cn.luigi\n",
    "import luigi\n",
    "from luigi import LocalTarget\n",
    "from bioluigi.decorators import inherits, requires\n",
    "from bioluigi.slurm import SlurmExecutableTask\n",
    "from bioluigi.utils import CheckTargetNonEmpty\n",
    "import os\n",
    "import logging\n",
    "import pandas as pd\n",
    "import numpy as np\n",
    "import matplotlib.pyplot as plt\n",
    "import seaborn as sns\n",
    "import sklearn.decomposition\n",
    "\n",
    "%matplotlib inline\n",
    "sns.set_style('whitegrid')"
   ]
  },
  {
   "cell_type": "code",
   "execution_count": 2,
   "metadata": {
    "collapsed": true
   },
   "outputs": [],
   "source": [
    "with open('/srv/shared/vanloo/rna2cn/sc-all/rna_samples.txt', 'r') as f:\n",
    "    rna_samples = [x.rstrip() for x in f if x[0] != '#']"
   ]
  },
  {
   "cell_type": "code",
   "execution_count": 3,
   "metadata": {},
   "outputs": [],
   "source": [
    "class RNABam(luigi.Task):\n",
    "    base_dir = luigi.Parameter(\"/srv/shared/vanloo/rna2cn/sc-all\")\n",
    "    sample = luigi.Parameter()\n",
    "    \n",
    "    def output(self):\n",
    "        return LocalTarget(os.path.join(self.base_dir, 'RNA', self.sample, self.sample + \".bam\"))\n",
    "    \n",
    "    def run(self):\n",
    "        try:\n",
    "            os.symlink(\"/srv/shared/vanloo/home/mtarabichi/sc-all/SC-ALL/pt24/RNA/\" + self.sample + \".bam\", self.output().path)\n",
    "        except FileExistsError:\n",
    "            os.unlink(self.output().path)\n",
    "            os.symlink(\"/srv/shared/vanloo/home/mtarabichi/sc-all/SC-ALL/pt24/RNA/\" + self.sample + \".bam\", self.output().path)\n",
    "\n",
    "@requires(RNABam)            \n",
    "class SamtoolsStats(CheckTargetNonEmpty, SlurmExecutableTask):\n",
    "    def __init__(self, *args, **kwargs):\n",
    "        super().__init__(*args, **kwargs)\n",
    "        self.partition = 'main'\n",
    "        self.mem = 8000\n",
    "        self.n_cpu = 1\n",
    "        \n",
    "    def output(self):\n",
    "        return LocalTarget(os.path.join(os.path.dirname(self.input().path), self.sample + '.txt'))\n",
    "    \n",
    "    def work_script(self):\n",
    "        return '''#!/bin/sh\n",
    "                  set -euo pipefail\n",
    "                  module load SAMtools\n",
    "                  \n",
    "                  samtools stats {input} > {output}.temp\n",
    "                  \n",
    "                  mv {output}.temp {output}\n",
    "                  '''.format(input=self.input().path,\n",
    "                             output=self.output().path)\n",
    "        \n",
    "@requires(RNABam)\n",
    "class BAMtoFASTQ(rna2cn.luigi.BAMtoFASTQ):\n",
    "    pass\n",
    "\n",
    "@requires(BAMtoFASTQ)\n",
    "class DeinterleaveBAM(rna2cn.luigi.DeinterleaveBAM):\n",
    "    pass\n",
    "\n",
    "@requires(DeinterleaveBAM)\n",
    "class Trimmomatic(rna2cn.luigi.Trimmomatic):\n",
    "    pass\n",
    "\n",
    "@requires(Trimmomatic)\n",
    "class FastQC(rna2cn.luigi.FastQC):\n",
    "    pass\n",
    "\n",
    "@requires(Trimmomatic)\n",
    "class Kallisto(rna2cn.luigi.Kallisto):\n",
    "    pass\n",
    "\n",
    "@inherits(Kallisto)\n",
    "class AggregateKallisto(rna2cn.luigi.AggregateKallisto):\n",
    "    sample = None\n",
    "    def requires(self):\n",
    "        return {s: self.clone(Kallisto, sample=s) for s in rna_samples} \n",
    "    \n",
    "@requires(Kallisto, SamtoolsStats, FastQC)    \n",
    "class PerSamplePipeline(luigi.WrapperTask):\n",
    "    pass\n",
    "    \n",
    "@inherits(PerSamplePipeline)    \n",
    "class SampleWrapper(luigi.WrapperTask):\n",
    "    sample = None\n",
    "    def requires(self):\n",
    "        return [self.clone_parent(sample=s) for s in rna_samples]\n",
    "    "
   ]
  },
  {
   "cell_type": "code",
   "execution_count": 4,
   "metadata": {
    "scrolled": false
   },
   "outputs": [
    {
     "name": "stderr",
     "output_type": "stream",
     "text": [
      "INFO: Informed scheduler that task   SampleWrapper__srv_shared_vanl_49c4422569   has status   DONE\n",
      "INFO: Informed scheduler that task   AggregateKallisto__srv_shared_vanl_49c4422569   has status   DONE\n",
      "INFO: Done scheduling tasks\n",
      "INFO: Running Worker with 100 processes\n",
      "INFO: Worker Worker(salt=754050257, workers=100, host=compute008, username=dbunting, pid=15738) was stopped. Shutting down Keep-Alive thread\n",
      "INFO: \n",
      "===== Luigi Execution Summary =====\n",
      "\n",
      "Scheduled 2 tasks of which:\n",
      "* 2 present dependencies were encountered:\n",
      "    - 1 AggregateKallisto(base_dir=/srv/shared/vanloo/rna2cn/sc-all)\n",
      "    - 1 SampleWrapper(base_dir=/srv/shared/vanloo/rna2cn/sc-all)\n",
      "\n",
      "Did not run any tasks\n",
      "This progress looks :) because there were no failed tasks or missing external dependencies\n",
      "\n",
      "===== Luigi Execution Summary =====\n",
      "\n"
     ]
    },
    {
     "data": {
      "text/plain": [
       "True"
      ]
     },
     "execution_count": 4,
     "metadata": {},
     "output_type": "execute_result"
    }
   ],
   "source": [
    "luigi.build([SampleWrapper(), AggregateKallisto()], local_scheduler=True, workers=100, log_level='INFO')"
   ]
  },
  {
   "cell_type": "code",
   "execution_count": null,
   "metadata": {
    "collapsed": true
   },
   "outputs": [],
   "source": []
  },
  {
   "cell_type": "markdown",
   "metadata": {},
   "source": [
    "# RNA Single Cell Analysis\n",
    "\n",
    "Apply some basic filters: rounding down any meaurement of tpm < 1 to 0, dropping genes expressed in less than 10% of samples and log transforming"
   ]
  },
  {
   "cell_type": "code",
   "execution_count": 5,
   "metadata": {},
   "outputs": [
    {
     "name": "stdout",
     "output_type": "stream",
     "text": [
      "(180065, 1006)\n",
      "(24347, 1006)\n"
     ]
    },
    {
     "data": {
      "text/html": [
       "<div>\n",
       "<style>\n",
       "    .dataframe thead tr:only-child th {\n",
       "        text-align: right;\n",
       "    }\n",
       "\n",
       "    .dataframe thead th {\n",
       "        text-align: left;\n",
       "    }\n",
       "\n",
       "    .dataframe tbody tr th {\n",
       "        vertical-align: top;\n",
       "    }\n",
       "</style>\n",
       "<table border=\"1\" class=\"dataframe\">\n",
       "  <thead>\n",
       "    <tr style=\"text-align: right;\">\n",
       "      <th></th>\n",
       "      <th>VT11b2_N701_S502</th>\n",
       "      <th>VT11b2_N701_S503</th>\n",
       "      <th>VT11b2_N701_S504</th>\n",
       "      <th>VT11b2_N701_S517</th>\n",
       "      <th>VT11b2_N702_S502</th>\n",
       "      <th>VT11b2_N702_S503</th>\n",
       "      <th>VT11b2_N702_S504</th>\n",
       "      <th>VT11b2_N702_S517</th>\n",
       "      <th>VT11b2_N703_S502</th>\n",
       "      <th>VT11b2_N703_S503</th>\n",
       "      <th>...</th>\n",
       "      <th>VT4_N711_S508</th>\n",
       "      <th>VT4_N711_S517</th>\n",
       "      <th>VT4_N712_S502</th>\n",
       "      <th>VT4_N712_S503</th>\n",
       "      <th>VT4_N712_S504</th>\n",
       "      <th>VT4_N712_S505</th>\n",
       "      <th>VT4_N712_S506</th>\n",
       "      <th>VT4_N712_S507</th>\n",
       "      <th>VT4_N712_S508</th>\n",
       "      <th>VT4_N712_S517</th>\n",
       "    </tr>\n",
       "    <tr>\n",
       "      <th>target_id</th>\n",
       "      <th></th>\n",
       "      <th></th>\n",
       "      <th></th>\n",
       "      <th></th>\n",
       "      <th></th>\n",
       "      <th></th>\n",
       "      <th></th>\n",
       "      <th></th>\n",
       "      <th></th>\n",
       "      <th></th>\n",
       "      <th></th>\n",
       "      <th></th>\n",
       "      <th></th>\n",
       "      <th></th>\n",
       "      <th></th>\n",
       "      <th></th>\n",
       "      <th></th>\n",
       "      <th></th>\n",
       "      <th></th>\n",
       "      <th></th>\n",
       "      <th></th>\n",
       "    </tr>\n",
       "  </thead>\n",
       "  <tbody>\n",
       "    <tr>\n",
       "      <th>ENST00000534447.5</th>\n",
       "      <td>1.174336</td>\n",
       "      <td>2.593696</td>\n",
       "      <td>2.905020</td>\n",
       "      <td>2.335300</td>\n",
       "      <td>1.704996</td>\n",
       "      <td>3.014595</td>\n",
       "      <td>2.135942</td>\n",
       "      <td>0.000000</td>\n",
       "      <td>1.693226</td>\n",
       "      <td>2.567752</td>\n",
       "      <td>...</td>\n",
       "      <td>0.000000</td>\n",
       "      <td>0.000000</td>\n",
       "      <td>4.739978</td>\n",
       "      <td>0.0</td>\n",
       "      <td>0.000000</td>\n",
       "      <td>0.000000</td>\n",
       "      <td>0.000000</td>\n",
       "      <td>0.000000</td>\n",
       "      <td>0.0</td>\n",
       "      <td>2.319228</td>\n",
       "    </tr>\n",
       "    <tr>\n",
       "      <th>ENST00000457194.6</th>\n",
       "      <td>1.126345</td>\n",
       "      <td>1.799626</td>\n",
       "      <td>2.798326</td>\n",
       "      <td>0.000000</td>\n",
       "      <td>0.000000</td>\n",
       "      <td>2.386041</td>\n",
       "      <td>1.091747</td>\n",
       "      <td>1.265497</td>\n",
       "      <td>2.442312</td>\n",
       "      <td>1.690936</td>\n",
       "      <td>...</td>\n",
       "      <td>0.000000</td>\n",
       "      <td>0.000000</td>\n",
       "      <td>0.000000</td>\n",
       "      <td>0.0</td>\n",
       "      <td>0.000000</td>\n",
       "      <td>0.000000</td>\n",
       "      <td>0.000000</td>\n",
       "      <td>0.000000</td>\n",
       "      <td>0.0</td>\n",
       "      <td>0.000000</td>\n",
       "    </tr>\n",
       "    <tr>\n",
       "      <th>ENST00000493176.1</th>\n",
       "      <td>2.335223</td>\n",
       "      <td>4.214537</td>\n",
       "      <td>4.536619</td>\n",
       "      <td>3.435914</td>\n",
       "      <td>0.000000</td>\n",
       "      <td>3.758005</td>\n",
       "      <td>4.230802</td>\n",
       "      <td>2.143537</td>\n",
       "      <td>3.483119</td>\n",
       "      <td>4.292885</td>\n",
       "      <td>...</td>\n",
       "      <td>0.000000</td>\n",
       "      <td>5.604872</td>\n",
       "      <td>0.000000</td>\n",
       "      <td>0.0</td>\n",
       "      <td>0.000000</td>\n",
       "      <td>2.563161</td>\n",
       "      <td>2.737137</td>\n",
       "      <td>0.000000</td>\n",
       "      <td>0.0</td>\n",
       "      <td>0.000000</td>\n",
       "    </tr>\n",
       "    <tr>\n",
       "      <th>ENST00000633705.1</th>\n",
       "      <td>0.000000</td>\n",
       "      <td>1.292428</td>\n",
       "      <td>2.447352</td>\n",
       "      <td>2.154262</td>\n",
       "      <td>2.111475</td>\n",
       "      <td>0.000000</td>\n",
       "      <td>3.490827</td>\n",
       "      <td>1.837628</td>\n",
       "      <td>1.361134</td>\n",
       "      <td>3.293036</td>\n",
       "      <td>...</td>\n",
       "      <td>2.710924</td>\n",
       "      <td>0.000000</td>\n",
       "      <td>0.000000</td>\n",
       "      <td>0.0</td>\n",
       "      <td>2.598818</td>\n",
       "      <td>0.000000</td>\n",
       "      <td>0.000000</td>\n",
       "      <td>3.015803</td>\n",
       "      <td>0.0</td>\n",
       "      <td>0.000000</td>\n",
       "    </tr>\n",
       "    <tr>\n",
       "      <th>ENST00000611116.1</th>\n",
       "      <td>3.017134</td>\n",
       "      <td>1.927824</td>\n",
       "      <td>0.000000</td>\n",
       "      <td>0.000000</td>\n",
       "      <td>3.226627</td>\n",
       "      <td>5.407716</td>\n",
       "      <td>0.000000</td>\n",
       "      <td>0.000000</td>\n",
       "      <td>2.222839</td>\n",
       "      <td>4.984229</td>\n",
       "      <td>...</td>\n",
       "      <td>0.000000</td>\n",
       "      <td>0.000000</td>\n",
       "      <td>0.000000</td>\n",
       "      <td>0.0</td>\n",
       "      <td>0.000000</td>\n",
       "      <td>0.000000</td>\n",
       "      <td>0.000000</td>\n",
       "      <td>0.000000</td>\n",
       "      <td>0.0</td>\n",
       "      <td>0.000000</td>\n",
       "    </tr>\n",
       "  </tbody>\n",
       "</table>\n",
       "<p>5 rows × 1006 columns</p>\n",
       "</div>"
      ],
      "text/plain": [
       "                   VT11b2_N701_S502  VT11b2_N701_S503  VT11b2_N701_S504  \\\n",
       "target_id                                                                 \n",
       "ENST00000534447.5          1.174336          2.593696          2.905020   \n",
       "ENST00000457194.6          1.126345          1.799626          2.798326   \n",
       "ENST00000493176.1          2.335223          4.214537          4.536619   \n",
       "ENST00000633705.1          0.000000          1.292428          2.447352   \n",
       "ENST00000611116.1          3.017134          1.927824          0.000000   \n",
       "\n",
       "                   VT11b2_N701_S517  VT11b2_N702_S502  VT11b2_N702_S503  \\\n",
       "target_id                                                                 \n",
       "ENST00000534447.5          2.335300          1.704996          3.014595   \n",
       "ENST00000457194.6          0.000000          0.000000          2.386041   \n",
       "ENST00000493176.1          3.435914          0.000000          3.758005   \n",
       "ENST00000633705.1          2.154262          2.111475          0.000000   \n",
       "ENST00000611116.1          0.000000          3.226627          5.407716   \n",
       "\n",
       "                   VT11b2_N702_S504  VT11b2_N702_S517  VT11b2_N703_S502  \\\n",
       "target_id                                                                 \n",
       "ENST00000534447.5          2.135942          0.000000          1.693226   \n",
       "ENST00000457194.6          1.091747          1.265497          2.442312   \n",
       "ENST00000493176.1          4.230802          2.143537          3.483119   \n",
       "ENST00000633705.1          3.490827          1.837628          1.361134   \n",
       "ENST00000611116.1          0.000000          0.000000          2.222839   \n",
       "\n",
       "                   VT11b2_N703_S503      ...        VT4_N711_S508  \\\n",
       "target_id                                ...                        \n",
       "ENST00000534447.5          2.567752      ...             0.000000   \n",
       "ENST00000457194.6          1.690936      ...             0.000000   \n",
       "ENST00000493176.1          4.292885      ...             0.000000   \n",
       "ENST00000633705.1          3.293036      ...             2.710924   \n",
       "ENST00000611116.1          4.984229      ...             0.000000   \n",
       "\n",
       "                   VT4_N711_S517  VT4_N712_S502  VT4_N712_S503  VT4_N712_S504  \\\n",
       "target_id                                                                       \n",
       "ENST00000534447.5       0.000000       4.739978            0.0       0.000000   \n",
       "ENST00000457194.6       0.000000       0.000000            0.0       0.000000   \n",
       "ENST00000493176.1       5.604872       0.000000            0.0       0.000000   \n",
       "ENST00000633705.1       0.000000       0.000000            0.0       2.598818   \n",
       "ENST00000611116.1       0.000000       0.000000            0.0       0.000000   \n",
       "\n",
       "                   VT4_N712_S505  VT4_N712_S506  VT4_N712_S507  VT4_N712_S508  \\\n",
       "target_id                                                                       \n",
       "ENST00000534447.5       0.000000       0.000000       0.000000            0.0   \n",
       "ENST00000457194.6       0.000000       0.000000       0.000000            0.0   \n",
       "ENST00000493176.1       2.563161       2.737137       0.000000            0.0   \n",
       "ENST00000633705.1       0.000000       0.000000       3.015803            0.0   \n",
       "ENST00000611116.1       0.000000       0.000000       0.000000            0.0   \n",
       "\n",
       "                   VT4_N712_S517  \n",
       "target_id                         \n",
       "ENST00000534447.5       2.319228  \n",
       "ENST00000457194.6       0.000000  \n",
       "ENST00000493176.1       0.000000  \n",
       "ENST00000633705.1       0.000000  \n",
       "ENST00000611116.1       0.000000  \n",
       "\n",
       "[5 rows x 1006 columns]"
      ]
     },
     "execution_count": 5,
     "metadata": {},
     "output_type": "execute_result"
    }
   ],
   "source": [
    "df = pd.read_table(\"/srv/shared/vanloo/rna2cn/sc-all/kallisto_abundances.tsv\", header=[0,1], index_col=0)\n",
    "tpm = df.xs('tpm', level=1, axis=1)\n",
    "\n",
    "\n",
    "# Set genes with TPM < 1 to 0\n",
    "tpm = tpm.where(tpm > 1, other=0)\n",
    "print(tpm.shape)\n",
    "# Drop genes expressed in < 10% of samples\n",
    "tpm.drop( tpm[(tpm > 0).mean(axis = 1) < 0.1].index , axis=0, inplace=True)\n",
    "print(tpm.shape)\n",
    "# log transform\n",
    "tpm = np.log2(tpm + 1)\n",
    "# Drop the ERCC spike ins\\\n",
    "tpm.drop(tpm[tpm.index.str.contains('ERCC')].index, inplace=True, axis=0)\n",
    "\n",
    "tpm.head()"
   ]
  },
  {
   "cell_type": "code",
   "execution_count": 6,
   "metadata": {},
   "outputs": [
    {
     "data": {
      "text/plain": [
       "<matplotlib.collections.LineCollection at 0x2b7fa7f1b2e8>"
      ]
     },
     "execution_count": 6,
     "metadata": {},
     "output_type": "execute_result"
    },
    {
     "name": "stderr",
     "output_type": "stream",
     "text": [
      "/home/dbunting/miniconda3/lib/python3.6/site-packages/matplotlib/font_manager.py:1297: UserWarning: findfont: Font family ['sans-serif'] not found. Falling back to DejaVu Sans\n",
      "  (prop.get_family(), self.defaultFamily[fontext]))\n"
     ]
    },
    {
     "data": {
      "image/png": "[encoded data removed]",
      "text/plain": [
       "<matplotlib.figure.Figure at 0x2b7fa7f1b3c8>"
      ]
     },
     "metadata": {},
     "output_type": "display_data"
    }
   ],
   "source": [
    "plt.figure(figsize=(8,6))\n",
    "sns.distplot((tpm > 0).sum(axis=0), kde=False)\n",
    "plt.xlabel(\"Expressed genes (tpm > 1)\")\n",
    "plt.ylabel(\"Number of cells\")\n",
    "plt.title(\"Expressed genes per cell\")\n",
    "plt.vlines(1500, 0,140)"
   ]
  },
  {
   "cell_type": "markdown",
   "metadata": {},
   "source": [
    "A cutoff of 1500 genes per cell seems about right to avoid cutting off the bulk of the cells.\n",
    "This drops 99 cells"
   ]
  },
  {
   "cell_type": "code",
   "execution_count": 7,
   "metadata": {},
   "outputs": [
    {
     "data": {
      "text/plain": [
       "(24347, 907)"
      ]
     },
     "execution_count": 7,
     "metadata": {},
     "output_type": "execute_result"
    }
   ],
   "source": [
    "tpm.drop( tpm.columns[(tpm > 0).sum(axis = 0) < 1500] , axis=1, inplace=True)\n",
    "tpm.shape"
   ]
  },
  {
   "cell_type": "code",
   "execution_count": 8,
   "metadata": {},
   "outputs": [
    {
     "data": {
      "text/plain": [
       "<matplotlib.text.Text at 0x2b7fb53fcb38>"
      ]
     },
     "execution_count": 8,
     "metadata": {},
     "output_type": "execute_result"
    },
    {
     "name": "stderr",
     "output_type": "stream",
     "text": [
      "/home/dbunting/miniconda3/lib/python3.6/site-packages/matplotlib/font_manager.py:1297: UserWarning: findfont: Font family ['sans-serif'] not found. Falling back to DejaVu Sans\n",
      "  (prop.get_family(), self.defaultFamily[fontext]))\n"
     ]
    },
    {
     "data": {
      "image/png": "[encoded data removed]",
      "text/plain": [
       "<matplotlib.figure.Figure at 0x2b7fb52ff748>"
      ]
     },
     "metadata": {},
     "output_type": "display_data"
    }
   ],
   "source": [
    "pca = sklearn.decomposition.PCA(2)\n",
    "transformed = pca.fit_transform(tpm.T)\n",
    "\n",
    "plt.figure(figsize=(8,8))\n",
    "plt.scatter(transformed[:,0], transformed[:,1],)\n",
    "plt.xlabel(\"PC1 {0:.1f}% variance\".format(pca.explained_variance_ratio_[0]*100), size=16)\n",
    "plt.ylabel(\"PC2 {0:.1f}% variance\".format(pca.explained_variance_ratio_[1]*100), size=16)"
   ]
  },
  {
   "cell_type": "code",
   "execution_count": null,
   "metadata": {
    "collapsed": true
   },
   "outputs": [],
   "source": []
  }
 ],
 "metadata": {
  "kernelspec": {
   "display_name": "Python 3",
   "language": "python",
   "name": "python3"
  },
  "language_info": {
   "codemirror_mode": {
    "name": "ipython",
    "version": 3
   },
   "file_extension": ".py",
   "mimetype": "text/x-python",
   "name": "python",
   "nbconvert_exporter": "python",
   "pygments_lexer": "ipython3",
   "version": "3.6.1"
  }
 },
 "nbformat": 4,
 "nbformat_minor": 2
}
