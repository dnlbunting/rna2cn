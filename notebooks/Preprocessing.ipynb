{
 "cells": [
  {
   "cell_type": "markdown",
   "metadata": {},
   "source": [
    "# Feature Preprocessing"
   ]
  },
  {
   "cell_type": "markdown",
   "metadata": {},
   "source": [
    "This notebook should take the output of the bioinformatics pipelines and do any preprocessing and reshaping to prepare the feature vectors for the prediction models\n",
    "\n",
    "Currently this includes taking the TPM matrices and samples metedata tables and separating the single cell and bulk channels. \n",
    "The expression in the TPM matrix is given per gene so first the genomic positions of the genes are extracted from Ensmbl, this can be used to produce a BED like format: chr,start,end,tpm\n",
    "We also take a similar BED like files defining the centromere locations and the target copy number profiles.\n",
    "\n",
    "The fine_bin fuction can then process all these channels in the same way, by dividing the genome into bins of size ws and then distributing the value column of the BED file into the bins spanning the feature.\n",
    "The overlap_reduce argument of fine_bin is a function that decides how to handle bins that contain multiple features. It has the signature \n",
    "\n",
    "new_bin_value = overlap_reduce(old_bin_value, features_in_bin, new_feature_value)\n",
    "\n",
    "For example for the expression data which is of the form log2(TPM + 1) has\n",
    "\n",
    "overlap_reduce = lambda x,n,y: np.log2(1 + (n*(2**x-1) + 2**y-1)/(n+1)\n",
    "\n",
    "Which is to say the bin contains the log average TPM\n",
    "\n",
    "\\log((\\Sigma_{genes}{TPM_i})/N_{genes} + 1)\n",
    "\n"
   ]
  },
  {
   "cell_type": "code",
   "execution_count": 41,
   "metadata": {},
   "outputs": [],
   "source": [
    "from keras.preprocessing.sequence import pad_sequences\n",
    "from keras.utils import to_categorical\n",
    "from sklearn.model_selection import train_test_split\n",
    "from sklearn.preprocessing import RobustScaler, MinMaxScaler\n",
    "import os,re, glob\n",
    "import pickle\n",
    "import pandas as pd\n",
    "import re,pyensembl\n",
    "import numpy as np\n",
    "import matplotlib.pyplot as plt\n",
    "import seaborn as sns\n",
    "import sklearn.decomposition\n",
    "import itertools\n",
    "import Bio.SeqIO, Bio.SeqUtils\n",
    "import joblib\n",
    "import warnings\n",
    "\n",
    "\n",
    "%matplotlib inline\n",
    "sns.set_style('whitegrid')"
   ]
  },
  {
   "cell_type": "code",
   "execution_count": 22,
   "metadata": {},
   "outputs": [],
   "source": [
    "fout = \"/srv/shared/vanloo/rna2cn/SRP052901/feaures/features_ws1mb.pickle\"\n",
    "ws = 1e6"
   ]
  },
  {
   "cell_type": "code",
   "execution_count": 23,
   "metadata": {},
   "outputs": [],
   "source": [
    "warnings.filterwarnings('ignore', category=DeprecationWarning)"
   ]
  },
  {
   "cell_type": "markdown",
   "metadata": {},
   "source": [
    "### Load the referece fasta dictionary"
   ]
  },
  {
   "cell_type": "code",
   "execution_count": 78,
   "metadata": {},
   "outputs": [],
   "source": [
    "chromosomes = list(map(str, range(1,23)))# + ['X']\n",
    "\n",
    "seq_dict = {}\n",
    "with open('/srv/shared/vanloo/rna2cn/references/Homo_sapiens.GRCh38/Homo_sapiens.GRCh38.dna_sm.primary_assembly.dict', 'r') as f:\n",
    "    for line in f:\n",
    "        if line[:3] == '@HD':\n",
    "            continue\n",
    "        _,sn,ln,*_ = line.split(\"\\t\")\n",
    "        if sn[3] in 'MKGYX':\n",
    "            continue\n",
    "        seq_dict[sn[3:]] = int(ln[3:])\n",
    "        "
   ]
  },
  {
   "cell_type": "markdown",
   "metadata": {},
   "source": [
    "# Pre-processing"
   ]
  },
  {
   "cell_type": "markdown",
   "metadata": {},
   "source": [
    "### Load the metadata table"
   ]
  },
  {
   "cell_type": "code",
   "execution_count": 25,
   "metadata": {},
   "outputs": [
    {
     "data": {
      "text/html": [
       "<div>\n",
       "<style>\n",
       "    .dataframe thead tr:only-child th {\n",
       "        text-align: right;\n",
       "    }\n",
       "\n",
       "    .dataframe thead th {\n",
       "        text-align: left;\n",
       "    }\n",
       "\n",
       "    .dataframe tbody tr th {\n",
       "        vertical-align: top;\n",
       "    }\n",
       "</style>\n",
       "<table border=\"1\" class=\"dataframe\">\n",
       "  <thead>\n",
       "    <tr style=\"text-align: right;\">\n",
       "      <th></th>\n",
       "      <th>Experiment_Accession</th>\n",
       "      <th>Experiment_Title</th>\n",
       "      <th>Organism_Name</th>\n",
       "      <th>Sample_Accession</th>\n",
       "      <th>Total_Size,_Mb</th>\n",
       "      <th>Library_Strategy</th>\n",
       "      <th>Library_Source</th>\n",
       "      <th>Library_Selection</th>\n",
       "      <th>Name</th>\n",
       "      <th>isBulk</th>\n",
       "      <th>Assay_Type_s</th>\n",
       "      <th>Experiment_s</th>\n",
       "      <th>LibrarySelection_s</th>\n",
       "      <th>LibrarySource_s</th>\n",
       "      <th>Sample_Name_s</th>\n",
       "      <th>source_name_s</th>\n",
       "      <th>tissue_s</th>\n",
       "      <th>gender_s</th>\n",
       "    </tr>\n",
       "    <tr>\n",
       "      <th>Run_s</th>\n",
       "      <th></th>\n",
       "      <th></th>\n",
       "      <th></th>\n",
       "      <th></th>\n",
       "      <th></th>\n",
       "      <th></th>\n",
       "      <th></th>\n",
       "      <th></th>\n",
       "      <th></th>\n",
       "      <th></th>\n",
       "      <th></th>\n",
       "      <th></th>\n",
       "      <th></th>\n",
       "      <th></th>\n",
       "      <th></th>\n",
       "      <th></th>\n",
       "      <th></th>\n",
       "      <th></th>\n",
       "    </tr>\n",
       "  </thead>\n",
       "  <tbody>\n",
       "    <tr>\n",
       "      <th>SRR3102618</th>\n",
       "      <td>SRX1531594</td>\n",
       "      <td>GSM2039773: bulk_HepG2_gDNA; Homo sapiens; Bis...</td>\n",
       "      <td>Homo sapiens</td>\n",
       "      <td>SRS1248904</td>\n",
       "      <td>546.42</td>\n",
       "      <td>Bisulfite-Seq</td>\n",
       "      <td>GENOMIC</td>\n",
       "      <td>Reduced Representation</td>\n",
       "      <td>bulk_HepG2_gDNA</td>\n",
       "      <td>True</td>\n",
       "      <td>Bisulfite-Seq</td>\n",
       "      <td>SRX1531594</td>\n",
       "      <td>Reduced Representation</td>\n",
       "      <td>GENOMIC</td>\n",
       "      <td>GSM2039773</td>\n",
       "      <td>HepG2 cell line</td>\n",
       "      <td>hepatocellular carcinoma</td>\n",
       "      <td>male</td>\n",
       "    </tr>\n",
       "    <tr>\n",
       "      <th>SRR3102617</th>\n",
       "      <td>SRX1531593</td>\n",
       "      <td>GSM2039772: bulk_HepG2_RRBS; Homo sapiens; Bis...</td>\n",
       "      <td>Homo sapiens</td>\n",
       "      <td>SRS1248905</td>\n",
       "      <td>2706.11</td>\n",
       "      <td>Bisulfite-Seq</td>\n",
       "      <td>GENOMIC</td>\n",
       "      <td>Reduced Representation</td>\n",
       "      <td>bulk_HepG2_RRBS</td>\n",
       "      <td>True</td>\n",
       "      <td>Bisulfite-Seq</td>\n",
       "      <td>SRX1531593</td>\n",
       "      <td>Reduced Representation</td>\n",
       "      <td>GENOMIC</td>\n",
       "      <td>GSM2039772</td>\n",
       "      <td>HepG2 cell line</td>\n",
       "      <td>hepatocellular carcinoma</td>\n",
       "      <td>male</td>\n",
       "    </tr>\n",
       "    <tr>\n",
       "      <th>SRR3102616</th>\n",
       "      <td>SRX1531592</td>\n",
       "      <td>GSM2039771: bulk_HepG2_RNA; Homo sapiens; RNA-Seq</td>\n",
       "      <td>Homo sapiens</td>\n",
       "      <td>SRS1248906</td>\n",
       "      <td>1614.42</td>\n",
       "      <td>RNA-Seq</td>\n",
       "      <td>TRANSCRIPTOMIC</td>\n",
       "      <td>cDNA</td>\n",
       "      <td>bulk_HepG2_RNA</td>\n",
       "      <td>True</td>\n",
       "      <td>RNA-Seq</td>\n",
       "      <td>SRX1531592</td>\n",
       "      <td>cDNA</td>\n",
       "      <td>TRANSCRIPTOMIC</td>\n",
       "      <td>GSM2039771</td>\n",
       "      <td>HepG2 cell line</td>\n",
       "      <td>hepatocellular carcinoma</td>\n",
       "      <td>male</td>\n",
       "    </tr>\n",
       "    <tr>\n",
       "      <th>SRR3102615</th>\n",
       "      <td>SRX1531591</td>\n",
       "      <td>GSM2039770: scRNA-seq_HepG2_2; Homo sapiens; R...</td>\n",
       "      <td>Homo sapiens</td>\n",
       "      <td>SRS1248907</td>\n",
       "      <td>724.66</td>\n",
       "      <td>RNA-Seq</td>\n",
       "      <td>TRANSCRIPTOMIC</td>\n",
       "      <td>cDNA</td>\n",
       "      <td>scRNA-seq_HepG2_2</td>\n",
       "      <td>False</td>\n",
       "      <td>RNA-Seq</td>\n",
       "      <td>SRX1531591</td>\n",
       "      <td>cDNA</td>\n",
       "      <td>TRANSCRIPTOMIC</td>\n",
       "      <td>GSM2039770</td>\n",
       "      <td>HepG2 cell line</td>\n",
       "      <td>hepatocellular carcinoma</td>\n",
       "      <td>male</td>\n",
       "    </tr>\n",
       "    <tr>\n",
       "      <th>SRR3102614</th>\n",
       "      <td>SRX1531590</td>\n",
       "      <td>GSM2039769: scRNA-seq_HepG2_1; Homo sapiens; R...</td>\n",
       "      <td>Homo sapiens</td>\n",
       "      <td>SRS1248908</td>\n",
       "      <td>703.82</td>\n",
       "      <td>RNA-Seq</td>\n",
       "      <td>TRANSCRIPTOMIC</td>\n",
       "      <td>cDNA</td>\n",
       "      <td>scRNA-seq_HepG2_1</td>\n",
       "      <td>False</td>\n",
       "      <td>RNA-Seq</td>\n",
       "      <td>SRX1531590</td>\n",
       "      <td>cDNA</td>\n",
       "      <td>TRANSCRIPTOMIC</td>\n",
       "      <td>GSM2039769</td>\n",
       "      <td>HepG2 cell line</td>\n",
       "      <td>hepatocellular carcinoma</td>\n",
       "      <td>male</td>\n",
       "    </tr>\n",
       "  </tbody>\n",
       "</table>\n",
       "</div>"
      ],
      "text/plain": [
       "           Experiment_Accession  \\\n",
       "Run_s                             \n",
       "SRR3102618           SRX1531594   \n",
       "SRR3102617           SRX1531593   \n",
       "SRR3102616           SRX1531592   \n",
       "SRR3102615           SRX1531591   \n",
       "SRR3102614           SRX1531590   \n",
       "\n",
       "                                             Experiment_Title Organism_Name  \\\n",
       "Run_s                                                                         \n",
       "SRR3102618  GSM2039773: bulk_HepG2_gDNA; Homo sapiens; Bis...  Homo sapiens   \n",
       "SRR3102617  GSM2039772: bulk_HepG2_RRBS; Homo sapiens; Bis...  Homo sapiens   \n",
       "SRR3102616  GSM2039771: bulk_HepG2_RNA; Homo sapiens; RNA-Seq  Homo sapiens   \n",
       "SRR3102615  GSM2039770: scRNA-seq_HepG2_2; Homo sapiens; R...  Homo sapiens   \n",
       "SRR3102614  GSM2039769: scRNA-seq_HepG2_1; Homo sapiens; R...  Homo sapiens   \n",
       "\n",
       "           Sample_Accession  Total_Size,_Mb Library_Strategy  Library_Source  \\\n",
       "Run_s                                                                          \n",
       "SRR3102618       SRS1248904          546.42    Bisulfite-Seq         GENOMIC   \n",
       "SRR3102617       SRS1248905         2706.11    Bisulfite-Seq         GENOMIC   \n",
       "SRR3102616       SRS1248906         1614.42          RNA-Seq  TRANSCRIPTOMIC   \n",
       "SRR3102615       SRS1248907          724.66          RNA-Seq  TRANSCRIPTOMIC   \n",
       "SRR3102614       SRS1248908          703.82          RNA-Seq  TRANSCRIPTOMIC   \n",
       "\n",
       "                 Library_Selection               Name  isBulk   Assay_Type_s  \\\n",
       "Run_s                                                                          \n",
       "SRR3102618  Reduced Representation    bulk_HepG2_gDNA    True  Bisulfite-Seq   \n",
       "SRR3102617  Reduced Representation    bulk_HepG2_RRBS    True  Bisulfite-Seq   \n",
       "SRR3102616                    cDNA     bulk_HepG2_RNA    True        RNA-Seq   \n",
       "SRR3102615                    cDNA  scRNA-seq_HepG2_2   False        RNA-Seq   \n",
       "SRR3102614                    cDNA  scRNA-seq_HepG2_1   False        RNA-Seq   \n",
       "\n",
       "           Experiment_s      LibrarySelection_s LibrarySource_s Sample_Name_s  \\\n",
       "Run_s                                                                           \n",
       "SRR3102618   SRX1531594  Reduced Representation         GENOMIC    GSM2039773   \n",
       "SRR3102617   SRX1531593  Reduced Representation         GENOMIC    GSM2039772   \n",
       "SRR3102616   SRX1531592                    cDNA  TRANSCRIPTOMIC    GSM2039771   \n",
       "SRR3102615   SRX1531591                    cDNA  TRANSCRIPTOMIC    GSM2039770   \n",
       "SRR3102614   SRX1531590                    cDNA  TRANSCRIPTOMIC    GSM2039769   \n",
       "\n",
       "              source_name_s                  tissue_s gender_s  \n",
       "Run_s                                                           \n",
       "SRR3102618  HepG2 cell line  hepatocellular carcinoma     male  \n",
       "SRR3102617  HepG2 cell line  hepatocellular carcinoma     male  \n",
       "SRR3102616  HepG2 cell line  hepatocellular carcinoma     male  \n",
       "SRR3102615  HepG2 cell line  hepatocellular carcinoma     male  \n",
       "SRR3102614  HepG2 cell line  hepatocellular carcinoma     male  "
      ]
     },
     "execution_count": 25,
     "metadata": {},
     "output_type": "execute_result"
    }
   ],
   "source": [
    "sample_table = pd.read_csv(\"/srv/shared/vanloo/rna2cn/SRP052901/sample_table.csv\")\n",
    "run_table = pd.read_table(\"/srv/shared/vanloo/rna2cn/SRP052901/run_table.tsv\")\n",
    "\n",
    "sample_table['Name'] = sample_table['Experiment Title'].apply(lambda x : re.match('\\S+: (\\S+);.*', x).groups()[0])\n",
    "sample_table['isBulk'] = sample_table['Experiment Title'].str.contains('bulk')\n",
    "sample_table = sample_table.merge(run_table, left_on='Experiment Accession', right_on='Experiment_s')\n",
    "sample_table.set_index('Run_s', inplace=True)\n",
    "\n",
    "cols = sample_table.columns\n",
    "cols = cols.map(lambda x: x.replace(' ', '_') if isinstance(x, str) else x)\n",
    "sample_table.columns = cols\n",
    "\n",
    "sample_table.drop(['ReleaseDate_s', 'Platform_s', 'LibraryLayout_s', 'Consent_s', 'MBytes_l', \n",
    "                   'Instrument', 'Submitter', 'Study_Accession', 'Study_Title', 'Total_Spots', 'Total_RUNs',\n",
    "                   'Total_Spots','Total_Bases','BioSample_s','AvgSpotLen_l', 'BioProject_s', 'Center_Name_s',\n",
    "                  'Sample_Title', 'Library_Name', 'Organism_s', 'InsertSize_l', 'passage_s','SRA_Study_s',\n",
    "                  'MBases_l', 'SRA_Sample_s','Instrument_s', 'LoadDate_s'], axis=1, inplace=True)\n",
    "sample_table = sample_table.append(pd.Series({ 'Name':'bulk_liver_RNA', \n",
    "                                              'Library_Source':\"TRANSCRIPTOMIC\", \n",
    "                                              'isBulk':True, \n",
    "                                              'Organism_Name':'Homo sapiens', \n",
    "                                              'tissue_s':'adult liver', \n",
    "                                              'source_name_s':\"human adult liver tissue\"}, name='ERR030887'))\n",
    "sample_table.head()"
   ]
  },
  {
   "cell_type": "markdown",
   "metadata": {},
   "source": [
    "### Fine binning"
   ]
  },
  {
   "cell_type": "code",
   "execution_count": 26,
   "metadata": {},
   "outputs": [],
   "source": [
    "def fine_bin(data, ws, overlap_reduce,seq_dict=seq_dict, chromosomes=chromosomes):\n",
    "    '''Takes an matrix input with four columns:\n",
    "\n",
    "      chromosome, start, end, value\n",
    "     \n",
    "     for a list of region and duplicates the value \n",
    "     eg TPM or CN into ws sized bins accross each chromosome\n",
    "     '''\n",
    "    chr_lefts = {k: np.arange(ws, v, ws) for k, v in seq_dict.items()}\n",
    "    chr_bins = {k: np.zeros((int(np.ceil(v/ws)))) for k, v in seq_dict.items()}\n",
    "    chr_bins_count = {k: np.zeros((int(np.ceil(v/ws)))) for k, v in seq_dict.items()}\n",
    "\n",
    "    for line in data:\n",
    "        chr, s, e, x = line\n",
    "        chr = str(int(chr))\n",
    "        s_i, e_i = np.digitize([s,e], chr_lefts[chr])\n",
    "        chr_bins[chr][s_i:e_i+1] = overlap_reduce(chr_bins[chr][s_i:e_i+1], chr_bins_count[chr][s_i:e_i+1], x)\n",
    "        chr_bins_count[chr][s_i:e_i+1] += 1\n",
    "    return [chr_bins[k] for k in chromosomes]"
   ]
  },
  {
   "cell_type": "markdown",
   "metadata": {},
   "source": [
    "### Load the TPM matrix"
   ]
  },
  {
   "cell_type": "code",
   "execution_count": 27,
   "metadata": {},
   "outputs": [],
   "source": [
    "liver_tpm = pd.read_csv(\"/srv/shared/vanloo/rna2cn/SRP052901/RNA/kallisto_gene_tpm.csv\", index_col=0)\n",
    "liver_tpm.drop([x for x in liver_tpm.columns if  'ESC' in x or 'Hep' in x], axis=1, inplace=True)\n",
    "liver_tpm.columns = [x.rsplit('_', 1)[0] for x in liver_tpm.columns]\n",
    "liver_tpm.columns = pd.io.parsers.ParserBase({'names':liver_tpm.columns})._maybe_dedup_names(liver_tpm.columns)\n",
    "\n",
    "samples = ['Ca_{0:02d}'.format(x) for x in range(1,27)]\n",
    "bulks = ['cancer_bulk', 'cancer_bulk.1', 'bulk_liver']"
   ]
  },
  {
   "cell_type": "markdown",
   "metadata": {},
   "source": [
    "### Extract gene locations from ensembl"
   ]
  },
  {
   "cell_type": "code",
   "execution_count": 28,
   "metadata": {},
   "outputs": [],
   "source": [
    "ensembl = pyensembl.ensembl_grch38\n",
    "genes = [ensembl.gene_by_id(x) for x in liver_tpm.index]\n",
    "\n",
    "liver_tpm['chr'] = [x.contig if x.contig[0] in 'GKMXY' else int(x.contig) for x in genes]\n",
    "liver_tpm['start'] = [x.start for x in genes]\n",
    "liver_tpm['end'] = [x.end for x in genes]\n",
    "\n",
    "liver_tpm.drop( liver_tpm[ liver_tpm['chr'].apply(lambda x:str(x)[0] in 'GKMYX') ].index, inplace=True)"
   ]
  },
  {
   "cell_type": "code",
   "execution_count": 29,
   "metadata": {},
   "outputs": [],
   "source": [
    "liver_tpm_sort = liver_tpm.sort_values(['chr', 'start'])\n",
    "tpm = liver_tpm_sort[liver_tpm_sort.columns[:-3]].as_matrix()\n",
    "positions = liver_tpm_sort[liver_tpm_sort.columns[-3:]].as_matrix()"
   ]
  },
  {
   "cell_type": "code",
   "execution_count": 30,
   "metadata": {},
   "outputs": [],
   "source": [
    "# The data is log2(TPM+1) so in overlapping regions exp and sum, subtract 1 so the total pseudocounts in any bin is 1\n",
    "liver_tpm_binned = {k: fine_bin(liver_tpm_sort[['chr', 'start', 'end', k]].as_matrix(),\n",
    "                               ws,\n",
    "                               lambda x,n,y: np.log2(1 + (n*(2**x-1) + 2**y-1)/(n+1) )) for k in samples + bulks}                                            "
   ]
  },
  {
   "cell_type": "code",
   "execution_count": 31,
   "metadata": {},
   "outputs": [],
   "source": [
    "X_sc = np.concatenate([pad_sequences(liver_tpm_binned[k], value=-1, padding='post', dtype='float') for k in samples], axis=0)\n",
    "X_sc = X_sc.reshape((*X_sc.shape, -1))\n",
    "\n",
    "X_bulk = np.array([pad_sequences(liver_tpm_binned[k], value=-1, padding='post', dtype='float') for k in bulks])\n",
    "X_bulk = np.tile(X_bulk, (1,26,1)).swapaxes(1,2).swapaxes(0,2)"
   ]
  },
  {
   "cell_type": "markdown",
   "metadata": {},
   "source": [
    "### Expression Scaling\n",
    "RobustScaler normalises the distribution of feature values using the IQR. This may improve performance, this could be done separatebly for the sc and each bulk library or together"
   ]
  },
  {
   "cell_type": "code",
   "execution_count": 32,
   "metadata": {},
   "outputs": [
    {
     "data": {
      "text/plain": [
       "<matplotlib.legend.Legend at 0x2b5552ce2cc0>"
      ]
     },
     "execution_count": 32,
     "metadata": {},
     "output_type": "execute_result"
    },
    {
     "name": "stderr",
     "output_type": "stream",
     "text": [
      "/home/dbunting/miniconda3/lib/python3.6/site-packages/matplotlib/font_manager.py:1297: UserWarning: findfont: Font family ['sans-serif'] not found. Falling back to DejaVu Sans\n",
      "  (prop.get_family(), self.defaultFamily[fontext]))\n"
     ]
    },
    {
     "data": {
      "image/png": "[encoded data removed]",
      "text/plain": [
       "<matplotlib.figure.Figure at 0x2b55503595f8>"
      ]
     },
     "metadata": {},
     "output_type": "display_data"
    }
   ],
   "source": [
    "plt.figure(figsize=(24, 6))\n",
    "\n",
    "X_expr = np.concatenate((X_sc, X_bulk), axis=2)\n",
    "X_scaled = X_expr.copy()\n",
    "X_2 = X_expr.copy()\n",
    "\n",
    "# Unscaled\n",
    "for i in range(X_expr.shape[2]):\n",
    "    sns.distplot(X_expr[:,:,i].reshape(-1), label=str(i), ax=plt.subplot(131))\n",
    "\n",
    "# Each library independently scaled   \n",
    "for i in range(X_expr.shape[2]):\n",
    "    X_scaled[:,:,i][X_scaled[:,:,i] > 0] = RobustScaler(with_centering=False).fit_transform(X_scaled[:,:,i][X_scaled[:,:,i] > 0]) \n",
    "    sns.distplot(X_scaled[:,:,i].reshape(-1), label=str(i), ax=plt.subplot(133))   \n",
    "    \n",
    "# Bulk and SC scaled together\n",
    "X_2[X_2 > 0] = RobustScaler(with_centering=False).fit_transform(X_2[X_2 > 0])\n",
    "for i in range(X_expr.shape[2]):\n",
    "    sns.distplot(X_2[:,:,i].reshape(-1), label=str(i), ax=plt.subplot(132))\n",
    "    \n",
    "plt.legend()"
   ]
  },
  {
   "cell_type": "markdown",
   "metadata": {},
   "source": [
    "### Load the CNV BED files"
   ]
  },
  {
   "cell_type": "code",
   "execution_count": 33,
   "metadata": {},
   "outputs": [],
   "source": [
    "cn_beds = glob.glob(\"/srv/shared/vanloo/rna2cn/SRP052901/RRBS/*/bismark/*.bed\")\n",
    "name = lambda k: sample_table.loc[os.path.basename(k).split('_')[0], 'Name'].rsplit('_', 1)[0]\n",
    "liver_cn = {name(k): fine_bin(pd.read_table(k, header=None).as_matrix(), ws, lambda x,n,y: y) \n",
    "            for k in cn_beds}\n",
    "\n",
    "# Temporary hack: at the centromeres the CN spikes so replace this with -1\n",
    "for k in liver_cn.keys():\n",
    "    for i,_ in enumerate(liver_cn[k]):\n",
    "        liver_cn[k][i][liver_cn[k][i] > 5] = -1\n",
    "        \n",
    "Y = np.concatenate([pad_sequences(liver_cn[k], value=-1, padding='post', dtype='float') for k in samples], axis=0)\n",
    "Y = to_categorical(Y, 7).reshape((*Y.shape, 7))[:,:,:-1]"
   ]
  },
  {
   "cell_type": "markdown",
   "metadata": {},
   "source": [
    "### Load centromere masks"
   ]
  },
  {
   "cell_type": "code",
   "execution_count": 34,
   "metadata": {},
   "outputs": [],
   "source": [
    "centromere_bed = pd.read_table(\"/srv/shared/vanloo/rna2cn/references/centromeres.bed\", header=None).as_matrix()\n",
    "X_centromere = np.array([pad_sequences(fine_bin(centromere_bed, ws, lambda x,n,y: y),value=-1, padding='post')])\n",
    "X_centromere = np.tile(X_centromere, (1,26,1)).swapaxes(1,2).swapaxes(0,2)"
   ]
  },
  {
   "cell_type": "markdown",
   "metadata": {},
   "source": [
    "### Calculate GC content track"
   ]
  },
  {
   "cell_type": "code",
   "execution_count": 35,
   "metadata": {},
   "outputs": [
    {
     "name": "stdout",
     "output_type": "stream",
     "text": [
      "Starting chr2\n",
      "Starting chr3\n",
      "Starting chr1\n",
      "Starting chr5\n",
      "Starting chr4\n",
      "Starting chr7\n",
      "Starting chr6\n",
      "Starting chr9\n",
      "Starting chr10\n",
      "Starting chr8\n",
      "Loaded genome chr6\n",
      "Loaded genome chr9\n",
      "Loaded genome chr8\n",
      "Loaded genome chr4\n",
      "Loaded genome chr10\n",
      "Loaded genome chr7\n",
      "Loaded genome chr1\n",
      "Loaded genome chr2\n",
      "Loaded genome chr3\n",
      "Loaded genome chr5\n",
      "Done chr10\n",
      "Pickling array (shape=(134,), dtype=float64).\n",
      "Starting chr11\n",
      "[Parallel(n_jobs=10)]: Done   1 tasks      | elapsed: 12.1min\n",
      "Done chr9\n",
      "Pickling array (shape=(139,), dtype=float64).\n",
      "Starting chr12\n",
      "[Parallel(n_jobs=10)]: Done   2 tasks      | elapsed: 12.8min\n",
      "Loaded genome chr11\n",
      "Done chr8\n",
      "Pickling array (shape=(146,), dtype=float64).\n",
      "Starting chr13\n",
      "[Parallel(n_jobs=10)]: Done   3 tasks      | elapsed: 13.9min\n",
      "Loaded genome chr12\n",
      "Loaded genome chr13\n",
      "Done chr7\n",
      "Pickling array (shape=(160,), dtype=float64).\n",
      "Starting chr14\n",
      "[Parallel(n_jobs=10)]: Done   4 out of  22 | elapsed: 16.4min remaining: 73.6min\n",
      "Loaded genome chr14\n",
      "Done chr6\n",
      "Pickling array (shape=(171,), dtype=float64).\n",
      "Starting chr15\n",
      "[Parallel(n_jobs=10)]: Done   5 out of  22 | elapsed: 18.5min remaining: 63.0min\n",
      "Loaded genome chr15\n",
      "Done chr5\n",
      "Pickling array (shape=(182,), dtype=float64).\n",
      "Starting chr16\n",
      "[Parallel(n_jobs=10)]: Done   6 out of  22 | elapsed: 20.8min remaining: 55.4min\n",
      "Loaded genome chr16\n",
      "Done chr4\n",
      "Pickling array (shape=(191,), dtype=float64).\n",
      "Starting chr17\n",
      "[Parallel(n_jobs=10)]: Done   7 out of  22 | elapsed: 22.6min remaining: 48.4min\n",
      "Done chr13\n",
      "Pickling array (shape=(115,), dtype=float64).\n",
      "Starting chr18\n",
      "[Parallel(n_jobs=10)]: Done   8 out of  22 | elapsed: 23.1min remaining: 40.5min\n",
      "Loaded genome chr17\n",
      "Done chr11\n",
      "Pickling array (shape=(136,), dtype=float64).\n",
      "Starting chr19\n",
      "[Parallel(n_jobs=10)]: Done   9 out of  22 | elapsed: 24.4min remaining: 35.2min\n",
      "Done chr3\n",
      "Pickling array (shape=(199,), dtype=float64).\n",
      "Starting chr20\n",
      "[Parallel(n_jobs=10)]: Done  10 out of  22 | elapsed: 24.4min remaining: 29.3min\n",
      "Done chr14\n",
      "Pickling array (shape=(108,), dtype=float64).\n",
      "Starting chr21\n",
      "[Parallel(n_jobs=10)]: Done  11 out of  22 | elapsed: 24.7min remaining: 24.7min\n",
      "Done chr12\n",
      "Pickling array (shape=(134,), dtype=float64).\n",
      "Starting chr22\n",
      "[Parallel(n_jobs=10)]: Done  12 out of  22 | elapsed: 24.7min remaining: 20.6min\n",
      "Loaded genome chr18\n",
      "Loaded genome chr19\n",
      "Loaded genome chr20\n",
      "Done chr15\n",
      "Pickling array (shape=(102,), dtype=float64).\n",
      "[Parallel(n_jobs=10)]: Done  13 out of  22 | elapsed: 26.2min remaining: 18.1min\n",
      "Loaded genome chr21\n",
      "Loaded genome chr22\n",
      "Done chr16\n",
      "Pickling array (shape=(91,), dtype=float64).\n",
      "[Parallel(n_jobs=10)]: Done  14 out of  22 | elapsed: 27.2min remaining: 15.5min\n",
      "Done chr21\n",
      "Pickling array (shape=(47,), dtype=float64).\n",
      "[Parallel(n_jobs=10)]: Done  15 out of  22 | elapsed: 27.7min remaining: 12.9min\n",
      "Done chr22\n",
      "Pickling array (shape=(51,), dtype=float64).\n",
      "[Parallel(n_jobs=10)]: Done  16 out of  22 | elapsed: 27.9min remaining: 10.5min\n",
      "Done chr19\n",
      "Pickling array (shape=(59,), dtype=float64).\n",
      "[Parallel(n_jobs=10)]: Done  17 out of  22 | elapsed: 28.0min remaining:  8.2min\n",
      "Done chr17\n",
      "Pickling array (shape=(84,), dtype=float64).\n",
      "[Parallel(n_jobs=10)]: Done  18 out of  22 | elapsed: 28.3min remaining:  6.3min\n",
      "Done chr20\n",
      "Pickling array (shape=(65,), dtype=float64).\n",
      "[Parallel(n_jobs=10)]: Done  19 out of  22 | elapsed: 28.5min remaining:  4.5min\n",
      "Done chr18\n",
      "Pickling array (shape=(81,), dtype=float64).\n",
      "[Parallel(n_jobs=10)]: Done  20 out of  22 | elapsed: 28.6min remaining:  2.9min\n",
      "Done chr2\n",
      "Pickling array (shape=(243,), dtype=float64).\n",
      "Done chr1\n",
      "Pickling array (shape=(249,), dtype=float64).\n",
      "[Parallel(n_jobs=10)]: Done  22 out of  22 | elapsed: 37.3min remaining:    0.0s\n",
      "[Parallel(n_jobs=10)]: Done  22 out of  22 | elapsed: 37.3min finished\n"
     ]
    }
   ],
   "source": [
    "def chr_gc(chr):\n",
    "    print(\"Starting chr\"+str(chr))\n",
    "    genome = Bio.SeqIO.index(\"/srv/shared/vanloo/rna2cn/references/Homo_sapiens.GRCh38/Homo_sapiens.GRCh38.dna_sm.primary_assembly.fa\", 'fasta')\n",
    "    chr_bins = {k: list(zip(np.arange(0, v, ws, dtype=int), np.concatenate([np.arange(ws, v, ws, dtype=int), [v+1]]))) for k, v in seq_dict.items()}\n",
    "    print(\"Loaded genome chr\"+str(chr))\n",
    "\n",
    "    gc = np.zeros(len(chr_bins[chr]))\n",
    "    for i,(s,e) in enumerate(chr_bins[chr]):\n",
    "        gc[i] = Bio.SeqUtils.GC(genome[chr][s:e].seq)\n",
    "    print(\"Done chr\"+str(chr))\n",
    "    return gc\n",
    "\n",
    "gc_bins = joblib.Parallel(n_jobs=10, verbose=100)(joblib.delayed(chr_gc)(chr) for chr in chromosomes)"
   ]
  },
  {
   "cell_type": "code",
   "execution_count": 36,
   "metadata": {},
   "outputs": [],
   "source": [
    "X_gc = np.array([pad_sequences(gc_bins, value=-1, padding='post', dtype='float')])\n",
    "X_gc = np.tile(X_gc, (1,26,1)).swapaxes(1,2).swapaxes(0,2)\n",
    "X_gc = MinMaxScaler().fit_transform(X_gc)"
   ]
  },
  {
   "cell_type": "markdown",
   "metadata": {},
   "source": [
    "### Concatenate Features into X matrix"
   ]
  },
  {
   "cell_type": "code",
   "execution_count": null,
   "metadata": {},
   "outputs": [],
   "source": [
    "X = np.concatenate((X_expr, X_centromere, X_gc), axis=2)"
   ]
  },
  {
   "cell_type": "markdown",
   "metadata": {},
   "source": [
    "### Sequence Shortening\n",
    "\n",
    "According to this article http://machinelearningmastery.com/truncated-backpropagation-through-time-in-keras/ training LSTMs struggle with sequences longer than a few hundred time steps due to slow downs vanishing gradients, the solution is to break the input timesteps up (limiting context used in training) and manual control clearing the hidden state."
   ]
  },
  {
   "cell_type": "code",
   "execution_count": null,
   "metadata": {},
   "outputs": [],
   "source": [
    "len_subseq = 100\n",
    "n_subseqs = int(X.shape[1]/len_subseq)\n",
    "\n",
    "paddedX = pad_sequences([x.swapaxes(0,1) for x in np.array_split(X, n_subseqs, axis=1)], value=-2, padding='post', dtype='float').swapaxes(1,2)\n",
    "X_split = paddedX.reshape(-1, *paddedX.shape[2:], order='F')\n",
    "\n",
    "paddedY = pad_sequences([x.swapaxes(0,1) for x in np.array_split(Y, n_subseqs, axis=1)], value=-2, padding='post', dtype='float').swapaxes(1,2)\n",
    "Y_split = paddedY.reshape(-1, *paddedY.shape[2:], order='F')"
   ]
  },
  {
   "cell_type": "code",
   "execution_count": 74,
   "metadata": {},
   "outputs": [],
   "source": [
    "n_samples = int(X.shape[0]/len(chromosomes))\n",
    "\n",
    "chr_bins = [np.ones((int(np.ceil(seq_dict[k]/ws)))) for k in chromosomes]\n",
    "mask2 = pad_sequences(chr_bins, value=0, padding='post', dtype='float').reshape(-1) == 1\n",
    "\n",
    "mask1 = np.zeros((n_samples, *Y_split.shape[:2]))\n",
    "for i in range(n_samples):\n",
    "    mask1[i][i*22*n_subseqs:(i+1)*22*n_subseqs, : ] = (Y_split[i*22*n_subseqs:(i+1)*22*n_subseqs,:,0] != -2)\n",
    "\n",
    "mask1 = mask1.astype(np.bool)"
   ]
  },
  {
   "cell_type": "code",
   "execution_count": 80,
   "metadata": {},
   "outputs": [],
   "source": [
    "X_split[X_split == -2] = -1\n",
    "Y_split[Y_split == -2] = -1"
   ]
  },
  {
   "cell_type": "markdown",
   "metadata": {},
   "source": [
    "In the split matrices each cell is broken down into chromosomes then padded to the same length.\n",
    "The padded chromosomes are then split into len_subseq long sequences that are also padded"
   ]
  },
  {
   "cell_type": "code",
   "execution_count": 45,
   "metadata": {},
   "outputs": [],
   "source": [
    "with open(fout, 'wb') as f:\n",
    "    pickle.dump([X, Y, mask], f)"
   ]
  },
  {
   "cell_type": "code",
   "execution_count": null,
   "metadata": {},
   "outputs": [],
   "source": []
  },
  {
   "cell_type": "code",
   "execution_count": null,
   "metadata": {},
   "outputs": [],
   "source": []
  },
  {
   "cell_type": "code",
   "execution_count": null,
   "metadata": {},
   "outputs": [],
   "source": []
  },
  {
   "cell_type": "code",
   "execution_count": null,
   "metadata": {},
   "outputs": [],
   "source": []
  },
  {
   "cell_type": "code",
   "execution_count": null,
   "metadata": {},
   "outputs": [],
   "source": []
  }
 ],
 "metadata": {
  "kernelspec": {
   "display_name": "Python 3",
   "language": "python",
   "name": "python3"
  },
  "language_info": {
   "codemirror_mode": {
    "name": "ipython",
    "version": 3
   },
   "file_extension": ".py",
   "mimetype": "text/x-python",
   "name": "python",
   "nbconvert_exporter": "python",
   "pygments_lexer": "ipython3",
   "version": "3.6.1"
  }
 },
 "nbformat": 4,
 "nbformat_minor": 2
}
