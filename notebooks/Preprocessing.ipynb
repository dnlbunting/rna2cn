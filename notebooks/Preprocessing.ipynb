{
 "cells": [
  {
   "cell_type": "markdown",
   "metadata": {},
   "source": [
    "# Feature Preprocessing"
   ]
  },
  {
   "cell_type": "markdown",
   "metadata": {},
   "source": [
    "This notebook should take the output of the bioinformatics pipelines and do any preprocessing and reshaping to prepare the feature vectors for the prediction models\n",
    "\n",
    "Currently this includes taking the TPM matrices and samples metedata tables and separating the single cell and bulk channels. \n",
    "The expression in the TPM matrix is given per gene so first the genomic positions of the genes are extracted from Ensmbl, this can be used to produce a BED like format: chr,start,end,tpm\n",
    "We also take a similar BED like files defining the centromere locations and the target copy number profiles.\n",
    "\n",
    "The fine_bin fuction can then process all these channels in the same way, by dividing the genome into bins of size ws and then distributing the value column of the BED file into the bins spanning the feature.\n",
    "The overlap_reduce argument of fine_bin is a function that decides how to handle bins that contain multiple features. It has the signature \n",
    "\n",
    "new_bin_value = overlap_reduce(old_bin_value, features_in_bin, new_feature_value)\n",
    "\n",
    "For example for the expression data which is of the form log2(TPM + 1) has\n",
    "\n",
    "overlap_reduce = lambda x,n,y: np.log2(1 + (n*(2**x-1) + 2**y-1)/(n+1)\n",
    "\n",
    "Which is to say the bin contains the log average TPM\n",
    "\n",
    "\\log((\\Sigma_{genes}{TPM_i})/N_{genes} + 1)\n",
    "\n"
   ]
  },
  {
   "cell_type": "code",
   "execution_count": 22,
   "metadata": {},
   "outputs": [],
   "source": [
    "from keras.preprocessing.sequence import pad_sequences\n",
    "from keras.utils import to_categorical\n",
    "from sklearn.model_selection import train_test_split\n",
    "import os,re, glob\n",
    "import pickle\n",
    "import pandas as pd\n",
    "import re,pyensembl\n",
    "import numpy as np\n",
    "import matplotlib.pyplot as plt\n",
    "import seaborn as sns\n",
    "import sklearn.decomposition\n",
    "import itertools\n",
    "\n",
    "%matplotlib inline\n",
    "sns.set_style('whitegrid')\n",
    "\n",
    "ws = 5e6"
   ]
  },
  {
   "cell_type": "markdown",
   "metadata": {},
   "source": [
    "### Load the referece fasta dictionary"
   ]
  },
  {
   "cell_type": "code",
   "execution_count": 6,
   "metadata": {},
   "outputs": [],
   "source": [
    "chromosomes = list(map(str, range(1,23)))# + ['X']\n",
    "\n",
    "seq_dict = {}\n",
    "with open('/srv/shared/vanloo/rna2cn/references/Homo_sapiens.GRCh38/Homo_sapiens.GRCh38.dna_sm.primary_assembly.dict', 'r') as f:\n",
    "    for line in f:\n",
    "        if line[:3] == '@HD':\n",
    "            continue\n",
    "        _,sn,ln,*_ = line.split(\"\\t\")\n",
    "        if sn[3] in 'MKGYX':\n",
    "            continue\n",
    "        seq_dict[sn[3:]] = int(ln[3:])\n",
    "        \n",
    "chr_bins = [np.ones((int(np.ceil(seq_dict[k]/ws))-1)) for k in chromosomes]\n",
    "mask = pad_sequences(chr_bins, value=0, padding='post', dtype='float').reshape(-1) == 1"
   ]
  },
  {
   "cell_type": "markdown",
   "metadata": {},
   "source": [
    "# Pre-processing"
   ]
  },
  {
   "cell_type": "markdown",
   "metadata": {},
   "source": [
    "### Load the metadata table"
   ]
  },
  {
   "cell_type": "code",
   "execution_count": 7,
   "metadata": {},
   "outputs": [
    {
     "data": {
      "text/html": [
       "<div>\n",
       "<style>\n",
       "    .dataframe thead tr:only-child th {\n",
       "        text-align: right;\n",
       "    }\n",
       "\n",
       "    .dataframe thead th {\n",
       "        text-align: left;\n",
       "    }\n",
       "\n",
       "    .dataframe tbody tr th {\n",
       "        vertical-align: top;\n",
       "    }\n",
       "</style>\n",
       "<table border=\"1\" class=\"dataframe\">\n",
       "  <thead>\n",
       "    <tr style=\"text-align: right;\">\n",
       "      <th></th>\n",
       "      <th>Experiment_Accession</th>\n",
       "      <th>Experiment_Title</th>\n",
       "      <th>Organism_Name</th>\n",
       "      <th>Sample_Accession</th>\n",
       "      <th>Total_Size,_Mb</th>\n",
       "      <th>Library_Strategy</th>\n",
       "      <th>Library_Source</th>\n",
       "      <th>Library_Selection</th>\n",
       "      <th>Name</th>\n",
       "      <th>isBulk</th>\n",
       "      <th>Assay_Type_s</th>\n",
       "      <th>Experiment_s</th>\n",
       "      <th>LibrarySelection_s</th>\n",
       "      <th>LibrarySource_s</th>\n",
       "      <th>Sample_Name_s</th>\n",
       "      <th>source_name_s</th>\n",
       "      <th>tissue_s</th>\n",
       "      <th>gender_s</th>\n",
       "    </tr>\n",
       "    <tr>\n",
       "      <th>Run_s</th>\n",
       "      <th></th>\n",
       "      <th></th>\n",
       "      <th></th>\n",
       "      <th></th>\n",
       "      <th></th>\n",
       "      <th></th>\n",
       "      <th></th>\n",
       "      <th></th>\n",
       "      <th></th>\n",
       "      <th></th>\n",
       "      <th></th>\n",
       "      <th></th>\n",
       "      <th></th>\n",
       "      <th></th>\n",
       "      <th></th>\n",
       "      <th></th>\n",
       "      <th></th>\n",
       "      <th></th>\n",
       "    </tr>\n",
       "  </thead>\n",
       "  <tbody>\n",
       "    <tr>\n",
       "      <th>SRR3102618</th>\n",
       "      <td>SRX1531594</td>\n",
       "      <td>GSM2039773: bulk_HepG2_gDNA; Homo sapiens; Bis...</td>\n",
       "      <td>Homo sapiens</td>\n",
       "      <td>SRS1248904</td>\n",
       "      <td>546.42</td>\n",
       "      <td>Bisulfite-Seq</td>\n",
       "      <td>GENOMIC</td>\n",
       "      <td>Reduced Representation</td>\n",
       "      <td>bulk_HepG2_gDNA</td>\n",
       "      <td>True</td>\n",
       "      <td>Bisulfite-Seq</td>\n",
       "      <td>SRX1531594</td>\n",
       "      <td>Reduced Representation</td>\n",
       "      <td>GENOMIC</td>\n",
       "      <td>GSM2039773</td>\n",
       "      <td>HepG2 cell line</td>\n",
       "      <td>hepatocellular carcinoma</td>\n",
       "      <td>male</td>\n",
       "    </tr>\n",
       "    <tr>\n",
       "      <th>SRR3102617</th>\n",
       "      <td>SRX1531593</td>\n",
       "      <td>GSM2039772: bulk_HepG2_RRBS; Homo sapiens; Bis...</td>\n",
       "      <td>Homo sapiens</td>\n",
       "      <td>SRS1248905</td>\n",
       "      <td>2706.11</td>\n",
       "      <td>Bisulfite-Seq</td>\n",
       "      <td>GENOMIC</td>\n",
       "      <td>Reduced Representation</td>\n",
       "      <td>bulk_HepG2_RRBS</td>\n",
       "      <td>True</td>\n",
       "      <td>Bisulfite-Seq</td>\n",
       "      <td>SRX1531593</td>\n",
       "      <td>Reduced Representation</td>\n",
       "      <td>GENOMIC</td>\n",
       "      <td>GSM2039772</td>\n",
       "      <td>HepG2 cell line</td>\n",
       "      <td>hepatocellular carcinoma</td>\n",
       "      <td>male</td>\n",
       "    </tr>\n",
       "    <tr>\n",
       "      <th>SRR3102616</th>\n",
       "      <td>SRX1531592</td>\n",
       "      <td>GSM2039771: bulk_HepG2_RNA; Homo sapiens; RNA-Seq</td>\n",
       "      <td>Homo sapiens</td>\n",
       "      <td>SRS1248906</td>\n",
       "      <td>1614.42</td>\n",
       "      <td>RNA-Seq</td>\n",
       "      <td>TRANSCRIPTOMIC</td>\n",
       "      <td>cDNA</td>\n",
       "      <td>bulk_HepG2_RNA</td>\n",
       "      <td>True</td>\n",
       "      <td>RNA-Seq</td>\n",
       "      <td>SRX1531592</td>\n",
       "      <td>cDNA</td>\n",
       "      <td>TRANSCRIPTOMIC</td>\n",
       "      <td>GSM2039771</td>\n",
       "      <td>HepG2 cell line</td>\n",
       "      <td>hepatocellular carcinoma</td>\n",
       "      <td>male</td>\n",
       "    </tr>\n",
       "    <tr>\n",
       "      <th>SRR3102615</th>\n",
       "      <td>SRX1531591</td>\n",
       "      <td>GSM2039770: scRNA-seq_HepG2_2; Homo sapiens; R...</td>\n",
       "      <td>Homo sapiens</td>\n",
       "      <td>SRS1248907</td>\n",
       "      <td>724.66</td>\n",
       "      <td>RNA-Seq</td>\n",
       "      <td>TRANSCRIPTOMIC</td>\n",
       "      <td>cDNA</td>\n",
       "      <td>scRNA-seq_HepG2_2</td>\n",
       "      <td>False</td>\n",
       "      <td>RNA-Seq</td>\n",
       "      <td>SRX1531591</td>\n",
       "      <td>cDNA</td>\n",
       "      <td>TRANSCRIPTOMIC</td>\n",
       "      <td>GSM2039770</td>\n",
       "      <td>HepG2 cell line</td>\n",
       "      <td>hepatocellular carcinoma</td>\n",
       "      <td>male</td>\n",
       "    </tr>\n",
       "    <tr>\n",
       "      <th>SRR3102614</th>\n",
       "      <td>SRX1531590</td>\n",
       "      <td>GSM2039769: scRNA-seq_HepG2_1; Homo sapiens; R...</td>\n",
       "      <td>Homo sapiens</td>\n",
       "      <td>SRS1248908</td>\n",
       "      <td>703.82</td>\n",
       "      <td>RNA-Seq</td>\n",
       "      <td>TRANSCRIPTOMIC</td>\n",
       "      <td>cDNA</td>\n",
       "      <td>scRNA-seq_HepG2_1</td>\n",
       "      <td>False</td>\n",
       "      <td>RNA-Seq</td>\n",
       "      <td>SRX1531590</td>\n",
       "      <td>cDNA</td>\n",
       "      <td>TRANSCRIPTOMIC</td>\n",
       "      <td>GSM2039769</td>\n",
       "      <td>HepG2 cell line</td>\n",
       "      <td>hepatocellular carcinoma</td>\n",
       "      <td>male</td>\n",
       "    </tr>\n",
       "  </tbody>\n",
       "</table>\n",
       "</div>"
      ],
      "text/plain": [
       "           Experiment_Accession  \\\n",
       "Run_s                             \n",
       "SRR3102618           SRX1531594   \n",
       "SRR3102617           SRX1531593   \n",
       "SRR3102616           SRX1531592   \n",
       "SRR3102615           SRX1531591   \n",
       "SRR3102614           SRX1531590   \n",
       "\n",
       "                                             Experiment_Title Organism_Name  \\\n",
       "Run_s                                                                         \n",
       "SRR3102618  GSM2039773: bulk_HepG2_gDNA; Homo sapiens; Bis...  Homo sapiens   \n",
       "SRR3102617  GSM2039772: bulk_HepG2_RRBS; Homo sapiens; Bis...  Homo sapiens   \n",
       "SRR3102616  GSM2039771: bulk_HepG2_RNA; Homo sapiens; RNA-Seq  Homo sapiens   \n",
       "SRR3102615  GSM2039770: scRNA-seq_HepG2_2; Homo sapiens; R...  Homo sapiens   \n",
       "SRR3102614  GSM2039769: scRNA-seq_HepG2_1; Homo sapiens; R...  Homo sapiens   \n",
       "\n",
       "           Sample_Accession  Total_Size,_Mb Library_Strategy  Library_Source  \\\n",
       "Run_s                                                                          \n",
       "SRR3102618       SRS1248904          546.42    Bisulfite-Seq         GENOMIC   \n",
       "SRR3102617       SRS1248905         2706.11    Bisulfite-Seq         GENOMIC   \n",
       "SRR3102616       SRS1248906         1614.42          RNA-Seq  TRANSCRIPTOMIC   \n",
       "SRR3102615       SRS1248907          724.66          RNA-Seq  TRANSCRIPTOMIC   \n",
       "SRR3102614       SRS1248908          703.82          RNA-Seq  TRANSCRIPTOMIC   \n",
       "\n",
       "                 Library_Selection               Name  isBulk   Assay_Type_s  \\\n",
       "Run_s                                                                          \n",
       "SRR3102618  Reduced Representation    bulk_HepG2_gDNA    True  Bisulfite-Seq   \n",
       "SRR3102617  Reduced Representation    bulk_HepG2_RRBS    True  Bisulfite-Seq   \n",
       "SRR3102616                    cDNA     bulk_HepG2_RNA    True        RNA-Seq   \n",
       "SRR3102615                    cDNA  scRNA-seq_HepG2_2   False        RNA-Seq   \n",
       "SRR3102614                    cDNA  scRNA-seq_HepG2_1   False        RNA-Seq   \n",
       "\n",
       "           Experiment_s      LibrarySelection_s LibrarySource_s Sample_Name_s  \\\n",
       "Run_s                                                                           \n",
       "SRR3102618   SRX1531594  Reduced Representation         GENOMIC    GSM2039773   \n",
       "SRR3102617   SRX1531593  Reduced Representation         GENOMIC    GSM2039772   \n",
       "SRR3102616   SRX1531592                    cDNA  TRANSCRIPTOMIC    GSM2039771   \n",
       "SRR3102615   SRX1531591                    cDNA  TRANSCRIPTOMIC    GSM2039770   \n",
       "SRR3102614   SRX1531590                    cDNA  TRANSCRIPTOMIC    GSM2039769   \n",
       "\n",
       "              source_name_s                  tissue_s gender_s  \n",
       "Run_s                                                           \n",
       "SRR3102618  HepG2 cell line  hepatocellular carcinoma     male  \n",
       "SRR3102617  HepG2 cell line  hepatocellular carcinoma     male  \n",
       "SRR3102616  HepG2 cell line  hepatocellular carcinoma     male  \n",
       "SRR3102615  HepG2 cell line  hepatocellular carcinoma     male  \n",
       "SRR3102614  HepG2 cell line  hepatocellular carcinoma     male  "
      ]
     },
     "execution_count": 7,
     "metadata": {},
     "output_type": "execute_result"
    }
   ],
   "source": [
    "sample_table = pd.read_csv(\"/srv/shared/vanloo/rna2cn/SRP052901/sample_table.csv\")\n",
    "run_table = pd.read_table(\"/srv/shared/vanloo/rna2cn/SRP052901/run_table.tsv\")\n",
    "\n",
    "sample_table['Name'] = sample_table['Experiment Title'].apply(lambda x : re.match('\\S+: (\\S+);.*', x).groups()[0])\n",
    "sample_table['isBulk'] = sample_table['Experiment Title'].str.contains('bulk')\n",
    "sample_table = sample_table.merge(run_table, left_on='Experiment Accession', right_on='Experiment_s')\n",
    "sample_table.set_index('Run_s', inplace=True)\n",
    "\n",
    "cols = sample_table.columns\n",
    "cols = cols.map(lambda x: x.replace(' ', '_') if isinstance(x, str) else x)\n",
    "sample_table.columns = cols\n",
    "\n",
    "sample_table.drop(['ReleaseDate_s', 'Platform_s', 'LibraryLayout_s', 'Consent_s', 'MBytes_l', \n",
    "                   'Instrument', 'Submitter', 'Study_Accession', 'Study_Title', 'Total_Spots', 'Total_RUNs',\n",
    "                   'Total_Spots','Total_Bases','BioSample_s','AvgSpotLen_l', 'BioProject_s', 'Center_Name_s',\n",
    "                  'Sample_Title', 'Library_Name', 'Organism_s', 'InsertSize_l', 'passage_s','SRA_Study_s',\n",
    "                  'MBases_l', 'SRA_Sample_s','Instrument_s', 'LoadDate_s'], axis=1, inplace=True)\n",
    "sample_table = sample_table.append(pd.Series({ 'Name':'bulk_liver_RNA', \n",
    "                                              'Library_Source':\"TRANSCRIPTOMIC\", \n",
    "                                              'isBulk':True, \n",
    "                                              'Organism_Name':'Homo sapiens', \n",
    "                                              'tissue_s':'adult liver', \n",
    "                                              'source_name_s':\"human adult liver tissue\"}, name='ERR030887'))\n",
    "sample_table.head()"
   ]
  },
  {
   "cell_type": "markdown",
   "metadata": {},
   "source": [
    "### Fine binning"
   ]
  },
  {
   "cell_type": "code",
   "execution_count": 12,
   "metadata": {},
   "outputs": [],
   "source": [
    "def fine_bin(data, ws, overlap_reduce,seq_dict=seq_dict):\n",
    "    '''Takes an matrix input with four columns:\n",
    "\n",
    "      chromosome, start, end, value\n",
    "     \n",
    "     for a list of region and duplicates the value \n",
    "     eg TPM or CN into ws sized bins accross each chromosome\n",
    "     '''\n",
    "    chr_lefts = {k: np.arange(0, v, ws) for k, v in seq_dict.items()}\n",
    "    chr_bins = {k: np.zeros((int(np.ceil(v/ws)))) for k, v in seq_dict.items()}\n",
    "    chr_bins_count = {k: np.zeros((int(np.ceil(v/ws)))) for k, v in seq_dict.items()}\n",
    "    chromosomes = list(map(str, range(1,23)))# + ['X']\n",
    "\n",
    "    for line in data:\n",
    "        chr, s, e, x = line\n",
    "        chr = str(int(chr))\n",
    "        s_i, e_i = np.digitize([s,e], chr_lefts[chr])\n",
    "        chr_bins[chr][s_i:e_i+1] = overlap_reduce(chr_bins[chr][s_i:e_i+1], chr_bins_count[chr][s_i:e_i+1], x)\n",
    "        chr_bins_count[chr][s_i:e_i+1] += 1\n",
    "\n",
    "\n",
    "    return [chr_bins[k][1:] for k in chromosomes]"
   ]
  },
  {
   "cell_type": "markdown",
   "metadata": {},
   "source": [
    "### Load the TPM matrix"
   ]
  },
  {
   "cell_type": "code",
   "execution_count": 8,
   "metadata": {},
   "outputs": [],
   "source": [
    "liver_tpm = pd.read_csv(\"./RNA/kallisto_gene_tpm.csv\", index_col=0)\n",
    "liver_tpm.drop([x for x in liver_tpm.columns if  'ESC' in x or 'Hep' in x], axis=1, inplace=True)\n",
    "liver_tpm.columns = [x.rsplit('_', 1)[0] for x in liver_tpm.columns]\n",
    "liver_tpm.columns = pd.io.parsers.ParserBase({'names':liver_tpm.columns})._maybe_dedup_names(liver_tpm.columns)\n",
    "\n",
    "samples = ['Ca_{0:02d}'.format(x) for x in range(1,27)]\n",
    "bulks = ['cancer_bulk', 'cancer_bulk.1', 'bulk_liver']"
   ]
  },
  {
   "cell_type": "markdown",
   "metadata": {},
   "source": [
    "### Extract gene locations from ensembl"
   ]
  },
  {
   "cell_type": "code",
   "execution_count": 9,
   "metadata": {},
   "outputs": [],
   "source": [
    "ensembl = pyensembl.ensembl_grch38\n",
    "genes = [ensembl.gene_by_id(x) for x in liver_tpm.index]\n",
    "\n",
    "liver_tpm['chr'] = [x.contig if x.contig[0] in 'GKMXY' else int(x.contig) for x in genes]\n",
    "liver_tpm['start'] = [x.start for x in genes]\n",
    "liver_tpm['end'] = [x.end for x in genes]\n",
    "\n",
    "liver_tpm.drop( liver_tpm[ liver_tpm['chr'].apply(lambda x:str(x)[0] in 'GKMYX') ].index, inplace=True)"
   ]
  },
  {
   "cell_type": "code",
   "execution_count": 13,
   "metadata": {},
   "outputs": [],
   "source": [
    "# The data is log2(TPM+1) so in overlapping regions exp and sum, subtract 1 so the total pseudocounts in any bin is 1\n",
    "liver_tpm_binned = {k: fine_bin(liver_tpm_sort[['chr', 'start', 'end', k]].as_matrix(),\n",
    "                               ws,\n",
    "                               lambda x,n,y: np.log2(1 + (n*(2**x-1) + 2**y-1)/(n+1) )) for k in samples + bulks}                                            "
   ]
  },
  {
   "cell_type": "code",
   "execution_count": 10,
   "metadata": {},
   "outputs": [],
   "source": [
    "liver_tpm_sort = liver_tpm.sort_values(['chr', 'start'])\n",
    "tpm = liver_tpm_sort[liver_tpm_sort.columns[:-3]].as_matrix()\n",
    "positions = liver_tpm_sort[liver_tpm_sort.columns[-3:]].as_matrix()"
   ]
  },
  {
   "cell_type": "markdown",
   "metadata": {},
   "source": [
    "### Load the CNV BED files"
   ]
  },
  {
   "cell_type": "code",
   "execution_count": 14,
   "metadata": {},
   "outputs": [],
   "source": [
    "cn_beds = glob.glob(\"/srv/shared/vanloo/rna2cn/SRP052901/RRBS/*/bismark/*.bed\")\n",
    "name = lambda k: sample_table.loc[os.path.basename(k).split('_')[0], 'Name'].rsplit('_', 1)[0]\n",
    "liver_cn = {name(k): fine_bin(pd.read_table(k, header=None).as_matrix(), ws, lambda x,n,y: y) \n",
    "            for k in cn_beds}\n",
    "\n",
    "# Temporary hack: at the centromeres the CN spikes so replace this with -1\n",
    "for k in liver_cn.keys():\n",
    "    for i,_ in enumerate(liver_cn[k]):\n",
    "        liver_cn[k][i][liver_cn[k][i] > 5] = -1"
   ]
  },
  {
   "cell_type": "markdown",
   "metadata": {},
   "source": [
    "### Load centromere masks"
   ]
  },
  {
   "cell_type": "code",
   "execution_count": 15,
   "metadata": {},
   "outputs": [],
   "source": [
    "centromere_bed = pd.read_table(\"/srv/shared/vanloo/rna2cn/references/centromeres.bed\", header=None).as_matrix()\n",
    "X_centromere = np.array([pad_sequences(fine_bin(centromere_bed, ws, lambda x,n,y: y),value=-1, padding='post')])\n",
    "X_centromere = np.tile(X_centromere, (1,26,1)).swapaxes(1,2).swapaxes(0,2)"
   ]
  },
  {
   "cell_type": "markdown",
   "metadata": {},
   "source": [
    "### Create the sequence matrices"
   ]
  },
  {
   "cell_type": "code",
   "execution_count": 24,
   "metadata": {},
   "outputs": [],
   "source": [
    "Y = np.concatenate([pad_sequences(liver_cn[k], value=-1, padding='post', dtype='float') for k in samples], axis=0)\n",
    "Y = to_categorical(Y, 7).reshape((*Y.shape, 7))[:,:,:-1]\n",
    "\n",
    "X_sc = np.concatenate([pad_sequences(liver_tpm_binned[k], value=-1, padding='post', dtype='float') for k in samples], axis=0)\n",
    "X_sc = X_sc.reshape((*X_sc.shape, -1))\n",
    "\n",
    "X_bulk = np.array([pad_sequences(liver_tpm_binned[k], value=-1, padding='post', dtype='float') for k in bulks])\n",
    "X_bulk = np.tile(X_bulk, (1,26,1)).swapaxes(1,2).swapaxes(0,2)\n",
    "\n",
    "X = np.concatenate((X_sc, X_bulk, X_centromere), axis=2)"
   ]
  },
  {
   "cell_type": "code",
   "execution_count": 23,
   "metadata": {},
   "outputs": [],
   "source": [
    "with open(\"/srv/shared/vanloo/rna2cn/SRP052901/feaures/features_ws5mb.pickle\", 'wb') as f:\n",
    "    pickle.dump([X, Y, mask], f)"
   ]
  },
  {
   "cell_type": "code",
   "execution_count": null,
   "metadata": {},
   "outputs": [],
   "source": []
  }
 ],
 "metadata": {
  "kernelspec": {
   "display_name": "Python 3",
   "language": "python",
   "name": "python3"
  },
  "language_info": {
   "codemirror_mode": {
    "name": "ipython",
    "version": 3
   },
   "file_extension": ".py",
   "mimetype": "text/x-python",
   "name": "python",
   "nbconvert_exporter": "python",
   "pygments_lexer": "ipython3",
   "version": "3.6.1"
  }
 },
 "nbformat": 4,
 "nbformat_minor": 2
}
